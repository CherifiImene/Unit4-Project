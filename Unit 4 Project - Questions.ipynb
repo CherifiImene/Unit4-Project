{
  "cells": [
    {
      "cell_type": "markdown",
      "metadata": {
        "id": "pcBqRLqzMULW"
      },
      "source": [
        "# Unit 4 Project\n",
        "After understanding how neural networks work, implementing some basic architectures using deep learning frameworks, and learning about some advanced techniques to help enhance our neural networks' models results, it's time to apply what you learned! So let's start\n",
        "\n",
        "## Project Overview \n",
        "In this project, you will build a neural network model to classify images from CIFAR 10 dataset. \n",
        "\n",
        "The CIFAR-10 dataset consists of 60000 32x32 color images of 10 classes, with 6000 images per class. There are 50000 training images and 10000 test images. The dataset is divided into five training batches and one test batch, each with 10000 images. The test batch contains exactly 1000 randomly-selected images from each class. The training batches contain the remaining images in random order, but some training batches may contain more images from one class than another. Between them, the training batches contain exactly 5000 images from each class. [source](https://www.cs.toronto.edu/~kriz/cifar.html)\n",
        "\n",
        "Unlike the previous projects, there will be no code cells to fill, the only task you have is to build the best possible model using the techniques you learned about in this unit. But we will guide you with some directives.\n",
        "\n",
        "You will have enough guidance throughout the project and your work will be reviewed and graded by a teacher assistant. You can also reach out to the TA via slack whenever you feel you are stuck.\n",
        "\n",
        "## Some guidelines\n",
        "- Please use text cells to write the questions' answers in a good way.\n",
        "- Don't forget to save the different models you tested so you will be able to report the different results you got and the impact of the different techniques you tested later.\n",
        "\n",
        "## Getting started\n",
        "- In case you don't have a GPU, it is recommended that you use google colab. Start by cloning this repository, then open [google colab](https://colab.research.google.com/), click on File > Upload notebook, and finally upload the ```.ipynb``` file from the repository you have just cloned! Don't forget to change the runtime to GPU. If you want to work in your local environment just open it using jupyter notebook.\n",
        "\n"
      ]
    },
    {
      "cell_type": "markdown",
      "metadata": {
        "id": "kLavLevW45rD"
      },
      "source": [
        "## Dataset \n",
        "\n",
        "1.   Load the dataset (**hint**: it's available here https://keras.io/api/datasets/)\n",
        "2.   Display few images of each class.\n",
        "\n"
      ]
    },
    {
      "cell_type": "code",
      "execution_count": 1,
      "metadata": {
        "colab": {
          "base_uri": "https://localhost:8080/"
        },
        "id": "lIDwu9xQKDgj",
        "outputId": "88642583-4a08-4b4d-88e2-12b7f7c5f0fe"
      },
      "outputs": [
        {
          "name": "stdout",
          "output_type": "stream",
          "text": [
            "Mounted at /content/drive\n"
          ]
        }
      ],
      "source": [
        "from google.colab import drive\n",
        "drive.mount('/content/drive')"
      ]
    },
    {
      "cell_type": "code",
      "execution_count": 2,
      "metadata": {
        "id": "COiq2EgT13Ux"
      },
      "outputs": [],
      "source": [
        "# import all necessary libraries\n",
        "import matplotlib.pyplot as plt\n",
        "import numpy as np\n",
        "from keras.datasets.cifar10 import load_data\n",
        "from keras.models import Sequential\n",
        "from keras.layers import Dense\n",
        "from keras.layers import Flatten\n",
        "from keras.layers import BatchNormalization\n",
        "from keras.layers import Dropout\n",
        "from keras.layers import LeakyReLU\n",
        "from keras.losses import SparseCategoricalCrossentropy\n",
        "from keras.regularizers import L1, L2, L1L2\n",
        "from keras.callbacks import EarlyStopping\n",
        "from tensorflow.keras.optimizers import Adam\n",
        "\n",
        "# For data augmentation\n",
        "from keras.layers import Rescaling, RandomFlip, RandomRotation\n",
        "from keras.layers import RandomContrast, RandomZoom"
      ]
    },
    {
      "cell_type": "code",
      "execution_count": 3,
      "metadata": {
        "colab": {
          "base_uri": "https://localhost:8080/"
        },
        "id": "Q7D9q0qVMj98",
        "outputId": "1dceb9d1-e29f-4ced-d329-c2b8e67df357"
      },
      "outputs": [
        {
          "name": "stdout",
          "output_type": "stream",
          "text": [
            "Downloading data from https://www.cs.toronto.edu/~kriz/cifar-10-python.tar.gz\n",
            "170500096/170498071 [==============================] - 2s 0us/step\n",
            "170508288/170498071 [==============================] - 2s 0us/step\n"
          ]
        }
      ],
      "source": [
        "# Your code here\n",
        "\n",
        "# Load the dataset\n",
        "(x_train, y_train), (x_test, y_test)= load_data()"
      ]
    },
    {
      "cell_type": "code",
      "execution_count": null,
      "metadata": {
        "id": "x6jEamrofSig"
      },
      "outputs": [],
      "source": [
        "def display_images(images,labels):\n",
        "  fig = plt.figure(figsize=(18,15))\n",
        "\n",
        "  labels_dict = {\n",
        "    0: \"airplane\",\n",
        "    1 :\"automobile\",\n",
        "    2 :\t\"bird\",\n",
        "    3 :\t\"cat\",\n",
        "    4 :\t\"deer\",\n",
        "    5 :\t\"dog\",\n",
        "    6 :\t\"frog\",\n",
        "    7 :\t\"horse\",\n",
        "    8 :\t\"ship\",\n",
        "    9 :\t\"truck\"\n",
        "}\n",
        "  def get_image_indices(labels,labels_dict):\n",
        "    indices = []\n",
        "    for label in labels_dict.keys():\n",
        "      all_indices = np.where(y_train == label)\n",
        "      indices.extend(all_indices[0][:2])\n",
        "    return indices\n",
        "  indices = get_image_indices(labels,labels_dict)\n",
        "  for i in range(20):\n",
        "    fig.add_subplot(4,5,i+1)\n",
        "\n",
        "    plt.imshow(images[indices[i]])\n",
        "    plt.title(labels_dict[labels[indices[i],0]])\n",
        "    plt.axis(\"off\")"
      ]
    },
    {
      "cell_type": "code",
      "execution_count": null,
      "metadata": {
        "colab": {
          "base_uri": "https://localhost:8080/",
          "height": 858
        },
        "id": "xBbhRdf5ZKf1",
        "outputId": "6cdcddbc-6d9c-4718-a767-fcfd9efe19ca"
      },
      "outputs": [
        {
          "data": {
            "image/png": "[encoded data removed]",
            "text/plain": [
              "<Figure size 1296x1080 with 20 Axes>"
            ]
          },
          "metadata": {
            "needs_background": "light"
          },
          "output_type": "display_data"
        }
      ],
      "source": [
        "# Display few images of each class\n",
        "display_images(x_train,y_train)"
      ]
    },
    {
      "cell_type": "markdown",
      "metadata": {
        "id": "YmIZ1vTp6pDZ"
      },
      "source": [
        "## Baseline Model\n",
        "\n",
        "1.   Build a basline model using only dense layers, activation function of your choice, and the adapted cost function for this problem.\n",
        "2.   Train and evaluate your model\n",
        "3.   Analyze the result\n",
        "\n"
      ]
    },
    {
      "cell_type": "code",
      "execution_count": 4,
      "metadata": {
        "id": "0qKs1Mg9wAx3"
      },
      "outputs": [],
      "source": [
        "def create_model(optimizer=Adam(),basic=False,BN_before=True,dropout_rate=0.3,nb_layers=3,nb_neurones=[132,100,10],activation_functions=['relu','relu','softmax'],\n",
        "                 weight_initializations=[\"he_normal\",\"he_normal\",\"he_normal\"],regularizer=None, data_augmentation=None):\n",
        "  \n",
        "  assert nb_layers == len(nb_neurones),f'You should provide number of neurones for {nb_layers}, you provided for {len(nb_neurones)} layers'\n",
        "  assert nb_layers == len(activation_functions),f'You should provide activation functions for each layer, you provided only for {len(activation_functions)} layers'\n",
        "  assert nb_layers == len(weight_initializations),f'You should provide initialization method for each layer, you provided only for {len(weight_initializations)} layers'\n",
        "\n",
        "  if basic :\n",
        "    model = Sequential([\n",
        "                      Flatten(input_shape=(32, 32,3)) ])\n",
        "    for layer in range(nb_layers):\n",
        "      model.add(Dense(nb_neurones[layer],\n",
        "                        activation= activation_functions[layer],\n",
        "                        kernel_initializer=weight_initializations[layer]\n",
        "                        )\n",
        "      )\n",
        "  else:\n",
        "    model = Sequential()\n",
        "    if data_augmentation != None :\n",
        "      model.add(data_augmentation)\n",
        "    model.add(Flatten(input_shape=(32, 32,3)))\n",
        "\n",
        "    for layer in range(nb_layers):\n",
        "      if activation_functions[layer] == \"lrelu\":\n",
        "        if BN_before:\n",
        "          model.add(BatchNormalization())\n",
        "        model.add(Dropout(rate=dropout_rate))\n",
        "        model.add(Dense(nb_neurones[layer],\n",
        "                        activation=LeakyReLU(),\n",
        "                        kernel_initializer=weight_initializations[layer],\n",
        "                        kernel_regularizer=regularizer\n",
        "                        )\n",
        "        )\n",
        "        if not BN_before:\n",
        "          model.add(BatchNormalization())\n",
        "      else:\n",
        "        if BN_before:\n",
        "          model.add(BatchNormalization())\n",
        "        model.add(Dropout(rate=dropout_rate))\n",
        "        model.add(Dense(nb_neurones[layer],\n",
        "                        activation=activation_functions[layer],\n",
        "                        kernel_initializer=weight_initializations[layer],\n",
        "                        kernel_regularizer=regularizer)\n",
        "        )\n",
        "        if not BN_before:\n",
        "          model.add(BatchNormalization())\n",
        "  model.compile(optimizer=optimizer,\n",
        "                loss=SparseCategoricalCrossentropy(),\n",
        "                metrics=['accuracy'])\n",
        "  return model"
      ]
    },
    {
      "cell_type": "code",
      "execution_count": null,
      "metadata": {
        "colab": {
          "base_uri": "https://localhost:8080/"
        },
        "id": "Dj0D8kHF9_K3",
        "outputId": "d0b701b8-ca35-4e85-8ee4-f54ba6c1a1df"
      },
      "outputs": [
        {
          "name": "stdout",
          "output_type": "stream",
          "text": [
            "Epoch 1/20\n"
          ]
        },
        {
          "name": "stderr",
          "output_type": "stream",
          "text": [
            "/usr/local/lib/python3.7/dist-packages/tensorflow/python/util/dispatch.py:1082: UserWarning: \"`sparse_categorical_crossentropy` received `from_logits=True`, but the `output` argument was produced by a sigmoid or softmax activation and thus does not represent logits. Was this intended?\"\n",
            "  return dispatch_target(*args, **kwargs)\n"
          ]
        },
        {
          "name": "stdout",
          "output_type": "stream",
          "text": [
            "1563/1563 [==============================] - 6s 4ms/step - loss: 17.5404 - accuracy: 0.1974\n",
            "Epoch 2/20\n",
            "1563/1563 [==============================] - 6s 4ms/step - loss: 2.4122 - accuracy: 0.2413\n",
            "Epoch 3/20\n",
            "1563/1563 [==============================] - 6s 4ms/step - loss: 2.1740 - accuracy: 0.2558\n",
            "Epoch 4/20\n",
            "1563/1563 [==============================] - 6s 4ms/step - loss: 2.2127 - accuracy: 0.2400\n",
            "Epoch 5/20\n",
            "1563/1563 [==============================] - 6s 4ms/step - loss: 2.3700 - accuracy: 0.1009\n",
            "Epoch 6/20\n",
            "1563/1563 [==============================] - 6s 4ms/step - loss: 2.3030 - accuracy: 0.0983\n",
            "Epoch 7/20\n",
            "1563/1563 [==============================] - 6s 4ms/step - loss: 2.3031 - accuracy: 0.0983\n",
            "Epoch 8/20\n",
            "1563/1563 [==============================] - 6s 4ms/step - loss: 2.3029 - accuracy: 0.0995\n",
            "Epoch 9/20\n",
            "1563/1563 [==============================] - 6s 4ms/step - loss: 2.3031 - accuracy: 0.0985\n",
            "Epoch 10/20\n",
            "1563/1563 [==============================] - 6s 4ms/step - loss: 2.3031 - accuracy: 0.0992\n",
            "Epoch 11/20\n",
            "1563/1563 [==============================] - 6s 4ms/step - loss: 2.3030 - accuracy: 0.0988\n",
            "Epoch 12/20\n",
            "1563/1563 [==============================] - 6s 4ms/step - loss: 2.3030 - accuracy: 0.1009\n",
            "Epoch 13/20\n",
            "1563/1563 [==============================] - 6s 4ms/step - loss: 2.3030 - accuracy: 0.0986\n",
            "Epoch 14/20\n",
            "1563/1563 [==============================] - 6s 4ms/step - loss: 2.3030 - accuracy: 0.0997\n",
            "Epoch 15/20\n",
            "1563/1563 [==============================] - 7s 4ms/step - loss: 2.3030 - accuracy: 0.0985\n",
            "Epoch 16/20\n",
            "1563/1563 [==============================] - 7s 4ms/step - loss: 2.3031 - accuracy: 0.0992\n",
            "Epoch 17/20\n",
            "1563/1563 [==============================] - 6s 4ms/step - loss: 2.3030 - accuracy: 0.0975\n",
            "Epoch 18/20\n",
            "1563/1563 [==============================] - 6s 4ms/step - loss: 2.3030 - accuracy: 0.0960\n",
            "Epoch 19/20\n",
            "1563/1563 [==============================] - 6s 4ms/step - loss: 2.3030 - accuracy: 0.0986\n",
            "Epoch 20/20\n",
            "1563/1563 [==============================] - 6s 4ms/step - loss: 2.3029 - accuracy: 0.0990\n",
            "INFO:tensorflow:Assets written to: ./my_models/basic_model/assets\n"
          ]
        }
      ],
      "source": [
        "# Your code here\n",
        "model = create_model(basic=True)\n",
        "model.fit(x_train,y_train,epochs=20)\n",
        "model.save('./my_models/basic_model')"
      ]
    },
    {
      "cell_type": "code",
      "execution_count": null,
      "metadata": {
        "colab": {
          "base_uri": "https://localhost:8080/"
        },
        "id": "3ky6D9hhTu--",
        "outputId": "7f4e9ef7-5fb1-4b6f-e3b6-7e24c16a6b62"
      },
      "outputs": [
        {
          "name": "stderr",
          "output_type": "stream",
          "text": [
            "/usr/local/lib/python3.7/dist-packages/tensorflow/python/util/dispatch.py:1082: UserWarning: \"`sparse_categorical_crossentropy` received `from_logits=True`, but the `output` argument was produced by a sigmoid or softmax activation and thus does not represent logits. Was this intended?\"\n",
            "  return dispatch_target(*args, **kwargs)\n"
          ]
        },
        {
          "name": "stdout",
          "output_type": "stream",
          "text": [
            "313/313 - 1s - loss: 2.3042 - accuracy: 0.1000 - 905ms/epoch - 3ms/step\n",
            "\n",
            "Test accuracy: 0.10000000149011612\n"
          ]
        }
      ],
      "source": [
        "#Evaluate the model\n",
        "test_loss, test_acc = model.evaluate(x_test,  y_test, verbose=2)\n",
        "\n",
        "print('\\nTest accuracy:', test_acc)\n"
      ]
    },
    {
      "cell_type": "markdown",
      "metadata": {
        "id": "GLfG2iPobTIK"
      },
      "source": [
        "**Analysis :**\n",
        "As we can see the loss started decreasing at a certain point then it stagnned in the same value 2.3030. The accuracy however was decreasing instead of increasing."
      ]
    },
    {
      "cell_type": "markdown",
      "metadata": {
        "id": "GvygWbNy-BxD"
      },
      "source": [
        "## Accelerating the training\n",
        "\n",
        "1.   Add batch normalization layers to your network in order to accelerate the training. Start with adding batch norm layer before each of your activation layers.\n",
        "2.   Analyze the new results\n",
        "3.   Change the position of the batch norm layers so they will be after the activation layers. Compare the results.\n",
        "   \n",
        "\n"
      ]
    },
    {
      "cell_type": "code",
      "execution_count": null,
      "metadata": {
        "colab": {
          "base_uri": "https://localhost:8080/"
        },
        "id": "fNaAVBN4-Ai4",
        "outputId": "fade511d-da4f-41a6-e117-d2f79abafb3c"
      },
      "outputs": [
        {
          "name": "stdout",
          "output_type": "stream",
          "text": [
            "Epoch 1/20\n"
          ]
        },
        {
          "name": "stderr",
          "output_type": "stream",
          "text": [
            "/usr/local/lib/python3.7/dist-packages/tensorflow/python/util/dispatch.py:1082: UserWarning: \"`sparse_categorical_crossentropy` received `from_logits=True`, but the `output` argument was produced by a sigmoid or softmax activation and thus does not represent logits. Was this intended?\"\n",
            "  return dispatch_target(*args, **kwargs)\n"
          ]
        },
        {
          "name": "stdout",
          "output_type": "stream",
          "text": [
            "1563/1563 [==============================] - 12s 6ms/step - loss: 1.9349 - accuracy: 0.3237\n",
            "Epoch 2/20\n",
            "1563/1563 [==============================] - 10s 6ms/step - loss: 1.6928 - accuracy: 0.3951\n",
            "Epoch 3/20\n",
            "1563/1563 [==============================] - 10s 6ms/step - loss: 1.6326 - accuracy: 0.4176\n",
            "Epoch 4/20\n",
            "1563/1563 [==============================] - 10s 6ms/step - loss: 1.5932 - accuracy: 0.4328\n",
            "Epoch 5/20\n",
            "1563/1563 [==============================] - 10s 6ms/step - loss: 1.5604 - accuracy: 0.4433\n",
            "Epoch 6/20\n",
            "1563/1563 [==============================] - 10s 6ms/step - loss: 1.5374 - accuracy: 0.4525\n",
            "Epoch 7/20\n",
            "1563/1563 [==============================] - 10s 6ms/step - loss: 1.5207 - accuracy: 0.4579\n",
            "Epoch 8/20\n",
            "1563/1563 [==============================] - 10s 6ms/step - loss: 1.5039 - accuracy: 0.4622\n",
            "Epoch 9/20\n",
            "1563/1563 [==============================] - 9s 6ms/step - loss: 1.4831 - accuracy: 0.4702\n",
            "Epoch 10/20\n",
            "1563/1563 [==============================] - 10s 6ms/step - loss: 1.4770 - accuracy: 0.4746\n",
            "Epoch 11/20\n",
            "1563/1563 [==============================] - 11s 7ms/step - loss: 1.4590 - accuracy: 0.4810\n",
            "Epoch 12/20\n",
            "1563/1563 [==============================] - 9s 6ms/step - loss: 1.4560 - accuracy: 0.4809\n",
            "Epoch 13/20\n",
            "1563/1563 [==============================] - 9s 6ms/step - loss: 1.4392 - accuracy: 0.4864\n",
            "Epoch 14/20\n",
            "1563/1563 [==============================] - 9s 6ms/step - loss: 1.4367 - accuracy: 0.4898\n",
            "Epoch 15/20\n",
            "1563/1563 [==============================] - 10s 6ms/step - loss: 1.4263 - accuracy: 0.4917\n",
            "Epoch 16/20\n",
            "1563/1563 [==============================] - 9s 6ms/step - loss: 1.4248 - accuracy: 0.4928\n",
            "Epoch 17/20\n",
            "1563/1563 [==============================] - 10s 6ms/step - loss: 1.4164 - accuracy: 0.4967\n",
            "Epoch 18/20\n",
            "1563/1563 [==============================] - 10s 6ms/step - loss: 1.4124 - accuracy: 0.4978\n",
            "Epoch 19/20\n",
            "1563/1563 [==============================] - 9s 6ms/step - loss: 1.4070 - accuracy: 0.5023\n",
            "Epoch 20/20\n",
            "1563/1563 [==============================] - 10s 6ms/step - loss: 1.4012 - accuracy: 0.5018\n",
            "INFO:tensorflow:Assets written to: ./my_models/basic+BN_before_model/assets\n"
          ]
        }
      ],
      "source": [
        "# Your code here\n",
        "model = create_model(BN_before=True)\n",
        "model.fit(x_train,y_train,epochs=20)\n",
        "model.save('./my_models/basic+BN_before_model')"
      ]
    },
    {
      "cell_type": "code",
      "execution_count": null,
      "metadata": {
        "colab": {
          "base_uri": "https://localhost:8080/"
        },
        "id": "dX6PUjtVemz5",
        "outputId": "ce93cb68-95a5-4ce0-c896-9e1283997c87"
      },
      "outputs": [
        {
          "name": "stderr",
          "output_type": "stream",
          "text": [
            "/usr/local/lib/python3.7/dist-packages/tensorflow/python/util/dispatch.py:1082: UserWarning: \"`sparse_categorical_crossentropy` received `from_logits=True`, but the `output` argument was produced by a sigmoid or softmax activation and thus does not represent logits. Was this intended?\"\n",
            "  return dispatch_target(*args, **kwargs)\n"
          ]
        },
        {
          "name": "stdout",
          "output_type": "stream",
          "text": [
            "313/313 - 1s - loss: 1.2818 - accuracy: 0.5438 - 1s/epoch - 3ms/step\n",
            "\n",
            "Test accuracy: 0.5437999963760376\n"
          ]
        }
      ],
      "source": [
        "#Evaluate the model\n",
        "test_loss, test_acc = model.evaluate(x_test,  y_test, verbose=2)\n",
        "\n",
        "print('\\nTest accuracy:', test_acc)\n"
      ]
    },
    {
      "cell_type": "markdown",
      "metadata": {
        "id": "Kvsxr9bdeqlm"
      },
      "source": [
        "**Analysis :**\n",
        "After adding batch normalization before each Dense layer, the accuracy improved significantly from 0.32 to 0.5 during training.\n",
        "\n",
        "The Accuracy in validation data also improved to reach 0.54. Despite this improvement, the value of accuracy is still low."
      ]
    },
    {
      "cell_type": "markdown",
      "metadata": {
        "id": "dMFXLtnQhYi2"
      },
      "source": [
        "### Changing the position of BatchNormalization"
      ]
    },
    {
      "cell_type": "code",
      "execution_count": null,
      "metadata": {
        "colab": {
          "base_uri": "https://localhost:8080/"
        },
        "id": "2twldC-whhHB",
        "outputId": "c5e55530-1032-4cf6-83d0-cbf4e7dc880a"
      },
      "outputs": [
        {
          "name": "stdout",
          "output_type": "stream",
          "text": [
            "Epoch 1/20\n",
            "1563/1563 [==============================] - 11s 7ms/step - loss: 2.1314 - accuracy: 0.2839\n",
            "Epoch 2/20\n",
            "1563/1563 [==============================] - 10s 7ms/step - loss: 1.9809 - accuracy: 0.3197\n",
            "Epoch 3/20\n",
            "1563/1563 [==============================] - 10s 6ms/step - loss: 1.9114 - accuracy: 0.3324\n",
            "Epoch 4/20\n",
            "1563/1563 [==============================] - 11s 7ms/step - loss: 1.8733 - accuracy: 0.3372\n",
            "Epoch 5/20\n",
            "1563/1563 [==============================] - 11s 7ms/step - loss: 1.8496 - accuracy: 0.3467\n",
            "Epoch 6/20\n",
            "1563/1563 [==============================] - 11s 7ms/step - loss: 1.8200 - accuracy: 0.3545\n",
            "Epoch 7/20\n",
            "1563/1563 [==============================] - 12s 8ms/step - loss: 1.8108 - accuracy: 0.3574\n",
            "Epoch 8/20\n",
            "1563/1563 [==============================] - 11s 7ms/step - loss: 1.7974 - accuracy: 0.3606\n",
            "Epoch 9/20\n",
            "1563/1563 [==============================] - 11s 7ms/step - loss: 1.7877 - accuracy: 0.3651\n",
            "Epoch 10/20\n",
            "1563/1563 [==============================] - 11s 7ms/step - loss: 1.7798 - accuracy: 0.3673\n",
            "Epoch 11/20\n",
            "1563/1563 [==============================] - 11s 7ms/step - loss: 1.7702 - accuracy: 0.3721\n",
            "Epoch 12/20\n",
            "1563/1563 [==============================] - 10s 7ms/step - loss: 1.7666 - accuracy: 0.3713\n",
            "Epoch 13/20\n",
            "1563/1563 [==============================] - 11s 7ms/step - loss: 1.7644 - accuracy: 0.3708\n",
            "Epoch 14/20\n",
            "1563/1563 [==============================] - 11s 7ms/step - loss: 1.7533 - accuracy: 0.3779\n",
            "Epoch 15/20\n",
            "1563/1563 [==============================] - 11s 7ms/step - loss: 1.7487 - accuracy: 0.3784\n",
            "Epoch 16/20\n",
            "1563/1563 [==============================] - 11s 7ms/step - loss: 1.7465 - accuracy: 0.3787\n",
            "Epoch 17/20\n",
            "1563/1563 [==============================] - 10s 7ms/step - loss: 1.7417 - accuracy: 0.3810\n",
            "Epoch 18/20\n",
            "1563/1563 [==============================] - 11s 7ms/step - loss: 1.7334 - accuracy: 0.3822\n",
            "Epoch 19/20\n",
            "1563/1563 [==============================] - 11s 7ms/step - loss: 1.7330 - accuracy: 0.3819\n",
            "Epoch 20/20\n",
            "1563/1563 [==============================] - 10s 7ms/step - loss: 1.7311 - accuracy: 0.3840\n",
            "INFO:tensorflow:Assets written to: ./my_models/basic+BN_after_model/assets\n"
          ]
        }
      ],
      "source": [
        "# Your code here\n",
        "model = create_model(BN_before=False)\n",
        "model.fit(x_train,y_train,epochs=20)\n",
        "model.save('./my_models/basic+BN_after_model')"
      ]
    },
    {
      "cell_type": "code",
      "execution_count": null,
      "metadata": {
        "colab": {
          "base_uri": "https://localhost:8080/"
        },
        "id": "IdPZsdV2ivS2",
        "outputId": "41dcb7ec-023e-4465-dd6d-4b175ba5a8f6"
      },
      "outputs": [
        {
          "name": "stdout",
          "output_type": "stream",
          "text": [
            "313/313 - 1s - loss: 1.5565 - accuracy: 0.4545 - 1s/epoch - 3ms/step\n",
            "\n",
            "Test accuracy: 0.4544999897480011\n"
          ]
        }
      ],
      "source": [
        "#Evaluate the model\n",
        "test_loss, test_acc = model.evaluate(x_test,  y_test, verbose=2)\n",
        "\n",
        "print('\\nTest accuracy:', test_acc)"
      ]
    },
    {
      "cell_type": "markdown",
      "metadata": {
        "id": "oZFjKy4Ki6UH"
      },
      "source": [
        "**Analysis**\n",
        "\n",
        "As we can see adding the BatchNormalization Layer after each Dense layer, doesn't give as much good result as adding it before each dense layer (0.45 < 0.54)."
      ]
    },
    {
      "cell_type": "markdown",
      "metadata": {
        "id": "XYXf6uM6DJ1a"
      },
      "source": [
        "## Reducing the overfitting \n",
        "\n",
        "\n",
        "1.   Apply the dropout technique to reduce the overfitting your model is suffering from\n",
        "2.   Try different dropout rates \n",
        "\n"
      ]
    },
    {
      "cell_type": "code",
      "execution_count": null,
      "metadata": {
        "colab": {
          "base_uri": "https://localhost:8080/"
        },
        "id": "2er70cnXDIqI",
        "outputId": "ada85843-d3f5-46a6-95fb-b10dd0ecc987"
      },
      "outputs": [
        {
          "name": "stdout",
          "output_type": "stream",
          "text": [
            "Epoch 1/20\n"
          ]
        },
        {
          "name": "stderr",
          "output_type": "stream",
          "text": [
            "/usr/local/lib/python3.7/dist-packages/tensorflow/python/util/dispatch.py:1082: UserWarning: \"`sparse_categorical_crossentropy` received `from_logits=True`, but the `output` argument was produced by a sigmoid or softmax activation and thus does not represent logits. Was this intended?\"\n",
            "  return dispatch_target(*args, **kwargs)\n"
          ]
        },
        {
          "name": "stdout",
          "output_type": "stream",
          "text": [
            "1563/1563 [==============================] - 11s 6ms/step - loss: 1.8552 - accuracy: 0.3479\n",
            "Epoch 2/20\n",
            "1563/1563 [==============================] - 10s 6ms/step - loss: 1.6396 - accuracy: 0.4158\n",
            "Epoch 3/20\n",
            "1563/1563 [==============================] - 10s 6ms/step - loss: 1.5678 - accuracy: 0.4404\n",
            "Epoch 4/20\n",
            "1563/1563 [==============================] - 10s 6ms/step - loss: 1.5223 - accuracy: 0.4589\n",
            "Epoch 5/20\n",
            "1563/1563 [==============================] - 10s 6ms/step - loss: 1.4881 - accuracy: 0.4692\n",
            "Epoch 6/20\n",
            "1563/1563 [==============================] - 9s 6ms/step - loss: 1.4613 - accuracy: 0.4796\n",
            "Epoch 7/20\n",
            "1563/1563 [==============================] - 10s 6ms/step - loss: 1.4380 - accuracy: 0.4881\n",
            "Epoch 8/20\n",
            "1563/1563 [==============================] - 11s 7ms/step - loss: 1.4195 - accuracy: 0.4948\n",
            "Epoch 9/20\n",
            "1563/1563 [==============================] - 10s 6ms/step - loss: 1.4028 - accuracy: 0.5009\n",
            "Epoch 10/20\n",
            "1563/1563 [==============================] - 10s 6ms/step - loss: 1.3876 - accuracy: 0.5076\n",
            "Epoch 11/20\n",
            "1563/1563 [==============================] - 10s 6ms/step - loss: 1.3717 - accuracy: 0.5124\n",
            "Epoch 12/20\n",
            "1563/1563 [==============================] - 10s 6ms/step - loss: 1.3610 - accuracy: 0.5140\n",
            "Epoch 13/20\n",
            "1563/1563 [==============================] - 10s 6ms/step - loss: 1.3481 - accuracy: 0.5204\n",
            "Epoch 14/20\n",
            "1563/1563 [==============================] - 10s 6ms/step - loss: 1.3439 - accuracy: 0.5193\n",
            "Epoch 15/20\n",
            "1563/1563 [==============================] - 9s 6ms/step - loss: 1.3337 - accuracy: 0.5264\n",
            "Epoch 16/20\n",
            "1563/1563 [==============================] - 9s 6ms/step - loss: 1.3309 - accuracy: 0.5242\n",
            "Epoch 17/20\n",
            "1563/1563 [==============================] - 14s 9ms/step - loss: 1.3173 - accuracy: 0.5305\n",
            "Epoch 18/20\n",
            "1563/1563 [==============================] - 10s 6ms/step - loss: 1.3098 - accuracy: 0.5350\n",
            "Epoch 19/20\n",
            "1563/1563 [==============================] - 10s 6ms/step - loss: 1.3056 - accuracy: 0.5352\n",
            "Epoch 20/20\n",
            "1563/1563 [==============================] - 10s 6ms/step - loss: 1.2924 - accuracy: 0.5402\n",
            "INFO:tensorflow:Assets written to: ./my_models/dropout_model_rate_0.2/assets\n"
          ]
        },
        {
          "name": "stderr",
          "output_type": "stream",
          "text": [
            "/usr/local/lib/python3.7/dist-packages/tensorflow/python/util/dispatch.py:1082: UserWarning: \"`sparse_categorical_crossentropy` received `from_logits=True`, but the `output` argument was produced by a sigmoid or softmax activation and thus does not represent logits. Was this intended?\"\n",
            "  return dispatch_target(*args, **kwargs)\n"
          ]
        },
        {
          "name": "stdout",
          "output_type": "stream",
          "text": [
            "313/313 - 1s - loss: 1.2473 - accuracy: 0.5574 - 1s/epoch - 3ms/step\n",
            "\n",
            "Test accuracy: 0.5573999881744385\n"
          ]
        }
      ],
      "source": [
        "# Your code here\n",
        "model = create_model(dropout_rate=0.2)\n",
        "model.fit(x_train,y_train,epochs=20)\n",
        "\n",
        "model.save('./my_models/dropout_model_rate_0.2')\n",
        "#Evaluate the model\n",
        "test_loss, test_acc = model.evaluate(x_test,  y_test, verbose=2)\n",
        "\n",
        "print('\\nTest accuracy:', test_acc)"
      ]
    },
    {
      "cell_type": "markdown",
      "metadata": {
        "id": "z_G-21FyorZX"
      },
      "source": [
        "**Analysis :**\n",
        "\n",
        "The accuracy in the test set is better than the accuracy during training (0.55 > 0.54) which proves that the overfitting has been reduced."
      ]
    },
    {
      "cell_type": "code",
      "execution_count": null,
      "metadata": {
        "colab": {
          "base_uri": "https://localhost:8080/"
        },
        "id": "Yeqfp6FVqhqk",
        "outputId": "ffe62065-e254-45c6-c6b5-61730658b457"
      },
      "outputs": [
        {
          "name": "stdout",
          "output_type": "stream",
          "text": [
            "Epoch 1/20\n"
          ]
        },
        {
          "name": "stderr",
          "output_type": "stream",
          "text": [
            "/usr/local/lib/python3.7/dist-packages/tensorflow/python/util/dispatch.py:1082: UserWarning: \"`sparse_categorical_crossentropy` received `from_logits=True`, but the `output` argument was produced by a sigmoid or softmax activation and thus does not represent logits. Was this intended?\"\n",
            "  return dispatch_target(*args, **kwargs)\n"
          ]
        },
        {
          "name": "stdout",
          "output_type": "stream",
          "text": [
            "1563/1563 [==============================] - 11s 6ms/step - loss: 2.0125 - accuracy: 0.3005\n",
            "Epoch 2/20\n",
            "1563/1563 [==============================] - 9s 6ms/step - loss: 1.7421 - accuracy: 0.3751\n",
            "Epoch 3/20\n",
            "1563/1563 [==============================] - 9s 6ms/step - loss: 1.6894 - accuracy: 0.3988\n",
            "Epoch 4/20\n",
            "1563/1563 [==============================] - 9s 6ms/step - loss: 1.6500 - accuracy: 0.4120\n",
            "Epoch 5/20\n",
            "1563/1563 [==============================] - 9s 6ms/step - loss: 1.6286 - accuracy: 0.4180\n",
            "Epoch 6/20\n",
            "1563/1563 [==============================] - 9s 6ms/step - loss: 1.6062 - accuracy: 0.4253\n",
            "Epoch 7/20\n",
            "1563/1563 [==============================] - 10s 6ms/step - loss: 1.5879 - accuracy: 0.4356\n",
            "Epoch 8/20\n",
            "1563/1563 [==============================] - 10s 6ms/step - loss: 1.5711 - accuracy: 0.4407\n",
            "Epoch 9/20\n",
            "1563/1563 [==============================] - 10s 6ms/step - loss: 1.5605 - accuracy: 0.4468\n",
            "Epoch 10/20\n",
            "1563/1563 [==============================] - 9s 6ms/step - loss: 1.5529 - accuracy: 0.4477\n",
            "Epoch 11/20\n",
            "1563/1563 [==============================] - 9s 6ms/step - loss: 1.5381 - accuracy: 0.4537\n",
            "Epoch 12/20\n",
            "1563/1563 [==============================] - 10s 6ms/step - loss: 1.5297 - accuracy: 0.4553\n",
            "Epoch 13/20\n",
            "1563/1563 [==============================] - 10s 6ms/step - loss: 1.5301 - accuracy: 0.4570\n",
            "Epoch 14/20\n",
            "1563/1563 [==============================] - 10s 6ms/step - loss: 1.5226 - accuracy: 0.4583\n",
            "Epoch 15/20\n",
            "1563/1563 [==============================] - 9s 6ms/step - loss: 1.5199 - accuracy: 0.4596\n",
            "Epoch 16/20\n",
            "1563/1563 [==============================] - 9s 6ms/step - loss: 1.5030 - accuracy: 0.4639\n",
            "Epoch 17/20\n",
            "1563/1563 [==============================] - 9s 6ms/step - loss: 1.5058 - accuracy: 0.4621\n",
            "Epoch 18/20\n",
            "1563/1563 [==============================] - 10s 6ms/step - loss: 1.4992 - accuracy: 0.4657\n",
            "Epoch 19/20\n",
            "1563/1563 [==============================] - 10s 6ms/step - loss: 1.4948 - accuracy: 0.4678\n",
            "Epoch 20/20\n",
            "1563/1563 [==============================] - 10s 6ms/step - loss: 1.4885 - accuracy: 0.4715\n",
            "INFO:tensorflow:Assets written to: ./my_models/dropout_model_drate_0.4/assets\n"
          ]
        },
        {
          "name": "stderr",
          "output_type": "stream",
          "text": [
            "/usr/local/lib/python3.7/dist-packages/tensorflow/python/util/dispatch.py:1082: UserWarning: \"`sparse_categorical_crossentropy` received `from_logits=True`, but the `output` argument was produced by a sigmoid or softmax activation and thus does not represent logits. Was this intended?\"\n",
            "  return dispatch_target(*args, **kwargs)\n"
          ]
        },
        {
          "name": "stdout",
          "output_type": "stream",
          "text": [
            "313/313 - 1s - loss: 1.3287 - accuracy: 0.5311 - 1s/epoch - 3ms/step\n",
            "\n",
            "Test accuracy: 0.5310999751091003\n"
          ]
        }
      ],
      "source": [
        "# rate = 0.4\n",
        "model = create_model(dropout_rate=0.4)\n",
        "model.fit(x_train,y_train,epochs=20)\n",
        "\n",
        "model.save('./my_models/dropout_model_drate_0.4')\n",
        "#Evaluate the model\n",
        "test_loss, test_acc = model.evaluate(x_test,  y_test, verbose=2)\n",
        "\n",
        "print('\\nTest accuracy:', test_acc)"
      ]
    },
    {
      "cell_type": "markdown",
      "metadata": {
        "id": "X7dgiEewrILF"
      },
      "source": [
        "**Analysis :**\n",
        "\n",
        "Increasing the rate of the Dropout layer, caused the accuracy to decrease during the trainign and in the test set, compared to the first one. But still the test accuracy is better than the training accuracy (0.53 > 0.47)"
      ]
    },
    {
      "cell_type": "code",
      "execution_count": null,
      "metadata": {
        "colab": {
          "base_uri": "https://localhost:8080/"
        },
        "id": "v-8w_Nr-sAxC",
        "outputId": "ccf5c268-2b82-4d3a-9aad-1d465e83c24a"
      },
      "outputs": [
        {
          "name": "stdout",
          "output_type": "stream",
          "text": [
            "Epoch 1/20\n"
          ]
        },
        {
          "name": "stderr",
          "output_type": "stream",
          "text": [
            "/usr/local/lib/python3.7/dist-packages/tensorflow/python/util/dispatch.py:1082: UserWarning: \"`sparse_categorical_crossentropy` received `from_logits=True`, but the `output` argument was produced by a sigmoid or softmax activation and thus does not represent logits. Was this intended?\"\n",
            "  return dispatch_target(*args, **kwargs)\n"
          ]
        },
        {
          "name": "stdout",
          "output_type": "stream",
          "text": [
            "1563/1563 [==============================] - 11s 6ms/step - loss: 1.9320 - accuracy: 0.3223\n",
            "Epoch 2/20\n",
            "1563/1563 [==============================] - 10s 7ms/step - loss: 1.6900 - accuracy: 0.3947\n",
            "Epoch 3/20\n",
            "1563/1563 [==============================] - 10s 6ms/step - loss: 1.6278 - accuracy: 0.4215\n",
            "Epoch 4/20\n",
            "1563/1563 [==============================] - 10s 6ms/step - loss: 1.5898 - accuracy: 0.4316\n",
            "Epoch 5/20\n",
            "1563/1563 [==============================] - 10s 6ms/step - loss: 1.5549 - accuracy: 0.4471\n",
            "Epoch 6/20\n",
            "1563/1563 [==============================] - 10s 6ms/step - loss: 1.5369 - accuracy: 0.4517\n",
            "Epoch 7/20\n",
            "1563/1563 [==============================] - 10s 6ms/step - loss: 1.5181 - accuracy: 0.4578\n",
            "Epoch 8/20\n",
            "1563/1563 [==============================] - 11s 7ms/step - loss: 1.4996 - accuracy: 0.4667\n",
            "Epoch 9/20\n",
            "1563/1563 [==============================] - 10s 6ms/step - loss: 1.4935 - accuracy: 0.4670\n",
            "Epoch 10/20\n",
            "1563/1563 [==============================] - 10s 6ms/step - loss: 1.4726 - accuracy: 0.4751\n",
            "Epoch 11/20\n",
            "1563/1563 [==============================] - 9s 6ms/step - loss: 1.4628 - accuracy: 0.4828\n",
            "Epoch 12/20\n",
            "1563/1563 [==============================] - 9s 6ms/step - loss: 1.4529 - accuracy: 0.4818\n",
            "Epoch 13/20\n",
            "1563/1563 [==============================] - 9s 6ms/step - loss: 1.4466 - accuracy: 0.4867\n",
            "Epoch 14/20\n",
            "1563/1563 [==============================] - 9s 6ms/step - loss: 1.4365 - accuracy: 0.4885\n",
            "Epoch 15/20\n",
            "1563/1563 [==============================] - 9s 6ms/step - loss: 1.4307 - accuracy: 0.4905\n",
            "Epoch 16/20\n",
            "1563/1563 [==============================] - 9s 6ms/step - loss: 1.4205 - accuracy: 0.4958\n",
            "Epoch 17/20\n",
            "1563/1563 [==============================] - 9s 6ms/step - loss: 1.4102 - accuracy: 0.4991\n",
            "Epoch 18/20\n",
            "1563/1563 [==============================] - 9s 6ms/step - loss: 1.4073 - accuracy: 0.4982\n",
            "Epoch 19/20\n",
            "1563/1563 [==============================] - 10s 6ms/step - loss: 1.4054 - accuracy: 0.5010\n",
            "Epoch 20/20\n",
            "1563/1563 [==============================] - 9s 6ms/step - loss: 1.3982 - accuracy: 0.5042\n",
            "INFO:tensorflow:Assets written to: ./my_models/dropout_model_rate_0.3/assets\n"
          ]
        },
        {
          "name": "stderr",
          "output_type": "stream",
          "text": [
            "/usr/local/lib/python3.7/dist-packages/tensorflow/python/util/dispatch.py:1082: UserWarning: \"`sparse_categorical_crossentropy` received `from_logits=True`, but the `output` argument was produced by a sigmoid or softmax activation and thus does not represent logits. Was this intended?\"\n",
            "  return dispatch_target(*args, **kwargs)\n"
          ]
        },
        {
          "name": "stdout",
          "output_type": "stream",
          "text": [
            "313/313 - 1s - loss: 1.2823 - accuracy: 0.5430 - 1s/epoch - 3ms/step\n",
            "\n",
            "Test accuracy: 0.5429999828338623\n"
          ]
        }
      ],
      "source": [
        "# rate = 0.3\n",
        "model = create_model(dropout_rate=0.3)\n",
        "model.fit(x_train,y_train,epochs=20)\n",
        "model.save('./my_models/dropout_model_rate_0.3')\n",
        "#Evaluate the model\n",
        "test_loss, test_acc = model.evaluate(x_test,  y_test, verbose=2)\n",
        "\n",
        "print('\\nTest accuracy:', test_acc)"
      ]
    },
    {
      "cell_type": "markdown",
      "metadata": {
        "id": "xKmr6M3Js6NK"
      },
      "source": [
        "**Analysis :**\n",
        "\n",
        "Decreasing the rate to 0.3, gave better results in the test set: 0.54 compared to 0.53 of accuracy with rate  0.4.\n",
        "\n",
        "However the difference between the accuracy in training and test is bigger with rate 0.4 : 0.53 - 0.47 =0.06 \n",
        "\n",
        "with rate 0.3 : 0.54 - 0.5 = 0.04\n",
        "\n",
        "with rate 0.2 : 0.55 - 0.53 = 0.02\n",
        "\n",
        "Therefore the best rate is 0.4"
      ]
    },
    {
      "cell_type": "markdown",
      "metadata": {
        "id": "TdyDpZgaqJli"
      },
      "source": []
    },
    {
      "cell_type": "markdown",
      "metadata": {
        "id": "cZkBwzPX_eHh"
      },
      "source": [
        "## Trying different model's parameters\n",
        "1. Try changing the number of layers, the number of hidden neurons in each layer, the activation functions, the weight initialization method...\n",
        "2. Compare the results you got for each evaluated model."
      ]
    },
    {
      "cell_type": "markdown",
      "metadata": {
        "id": "vlCohyURETzO"
      },
      "source": [
        "### Changing the number of Layers"
      ]
    },
    {
      "cell_type": "code",
      "execution_count": null,
      "metadata": {
        "colab": {
          "base_uri": "https://localhost:8080/"
        },
        "id": "sXtHgGpjFm9i",
        "outputId": "13a11561-1c07-4856-e7e9-52eff3eb7604"
      },
      "outputs": [
        {
          "name": "stdout",
          "output_type": "stream",
          "text": [
            "Epoch 1/20\n"
          ]
        },
        {
          "name": "stderr",
          "output_type": "stream",
          "text": [
            "/usr/local/lib/python3.7/dist-packages/tensorflow/python/util/dispatch.py:1082: UserWarning: \"`sparse_categorical_crossentropy` received `from_logits=True`, but the `output` argument was produced by a sigmoid or softmax activation and thus does not represent logits. Was this intended?\"\n",
            "  return dispatch_target(*args, **kwargs)\n"
          ]
        },
        {
          "name": "stdout",
          "output_type": "stream",
          "text": [
            "1563/1563 [==============================] - 12s 6ms/step - loss: 1.9481 - accuracy: 0.3070\n",
            "Epoch 2/20\n",
            "1563/1563 [==============================] - 9s 6ms/step - loss: 1.7270 - accuracy: 0.3826\n",
            "Epoch 3/20\n",
            "1563/1563 [==============================] - 8s 5ms/step - loss: 1.6645 - accuracy: 0.4090\n",
            "Epoch 4/20\n",
            "1563/1563 [==============================] - 8s 5ms/step - loss: 1.6198 - accuracy: 0.4254\n",
            "Epoch 5/20\n",
            "1563/1563 [==============================] - 8s 5ms/step - loss: 1.5836 - accuracy: 0.4408\n",
            "Epoch 6/20\n",
            "1563/1563 [==============================] - 9s 6ms/step - loss: 1.5600 - accuracy: 0.4496\n",
            "Epoch 7/20\n",
            "1563/1563 [==============================] - 8s 5ms/step - loss: 1.5296 - accuracy: 0.4594\n",
            "Epoch 8/20\n",
            "1563/1563 [==============================] - 8s 5ms/step - loss: 1.5125 - accuracy: 0.4675\n",
            "Epoch 9/20\n",
            "1563/1563 [==============================] - 8s 5ms/step - loss: 1.4990 - accuracy: 0.4713\n",
            "Epoch 10/20\n",
            "1563/1563 [==============================] - 8s 5ms/step - loss: 1.4800 - accuracy: 0.4786\n",
            "Epoch 11/20\n",
            "1563/1563 [==============================] - 9s 5ms/step - loss: 1.4639 - accuracy: 0.4873\n",
            "Epoch 12/20\n",
            "1563/1563 [==============================] - 8s 5ms/step - loss: 1.4516 - accuracy: 0.4898\n",
            "Epoch 13/20\n",
            "1563/1563 [==============================] - 8s 5ms/step - loss: 1.4389 - accuracy: 0.4964\n",
            "Epoch 14/20\n",
            "1563/1563 [==============================] - 8s 5ms/step - loss: 1.4292 - accuracy: 0.4986\n",
            "Epoch 15/20\n",
            "1563/1563 [==============================] - 8s 5ms/step - loss: 1.4148 - accuracy: 0.5034\n",
            "Epoch 16/20\n",
            "1563/1563 [==============================] - 8s 5ms/step - loss: 1.4085 - accuracy: 0.5044\n",
            "Epoch 17/20\n",
            "1563/1563 [==============================] - 8s 5ms/step - loss: 1.3993 - accuracy: 0.5090\n",
            "Epoch 18/20\n",
            "1563/1563 [==============================] - 8s 5ms/step - loss: 1.3932 - accuracy: 0.5124\n",
            "Epoch 19/20\n",
            "1563/1563 [==============================] - 8s 5ms/step - loss: 1.3804 - accuracy: 0.5174\n",
            "Epoch 20/20\n",
            "1563/1563 [==============================] - 8s 5ms/step - loss: 1.3761 - accuracy: 0.5202\n",
            "313/313 - 1s - loss: 1.2442 - accuracy: 0.5577 - 822ms/epoch - 3ms/step\n",
            "Test accuracy : 0.557699978351593\n",
            "INFO:tensorflow:Assets written to: ./my_models/training5_elu_relu_model/assets\n"
          ]
        }
      ],
      "source": [
        "# Your code here\n",
        "model = create_model(dropout_rate=0.4,\n",
        "                     nb_layers=5,nb_neurones=[512,264,132,128,10],\n",
        "                     activation_functions=[\"elu\",\"relu\",\"elu\",\"relu\",\"softmax\"],\n",
        "                     weight_initializations=[\"lecun_uniform\",\"lecun_uniform\",\"lecun_uniform\",\"lecun_uniform\",\"lecun_uniform\"])\n",
        "model.fit(x_train,y_train,epochs=20)\n",
        "loss_test, accuracy_test = model.evaluate(x_test,y_test,verbose=2)\n",
        "\n",
        "print(f\"Test accuracy : {accuracy_test}\")\n",
        "model.save('./my_models/training5_elu_relu_model')"
      ]
    },
    {
      "cell_type": "code",
      "execution_count": null,
      "metadata": {
        "colab": {
          "base_uri": "https://localhost:8080/"
        },
        "id": "mhuXZM-Nx55q",
        "outputId": "48a0a80d-ae69-4037-9985-fb4f24ade882"
      },
      "outputs": [
        {
          "name": "stdout",
          "output_type": "stream",
          "text": [
            "Epoch 1/20\n"
          ]
        },
        {
          "name": "stderr",
          "output_type": "stream",
          "text": [
            "/usr/local/lib/python3.7/dist-packages/tensorflow/python/util/dispatch.py:1082: UserWarning: \"`sparse_categorical_crossentropy` received `from_logits=True`, but the `output` argument was produced by a sigmoid or softmax activation and thus does not represent logits. Was this intended?\"\n",
            "  return dispatch_target(*args, **kwargs)\n"
          ]
        },
        {
          "name": "stdout",
          "output_type": "stream",
          "text": [
            "1563/1563 [==============================] - 10s 6ms/step - loss: 1.9838 - accuracy: 0.2884\n",
            "Epoch 2/20\n",
            "1563/1563 [==============================] - 9s 5ms/step - loss: 1.7483 - accuracy: 0.3747\n",
            "Epoch 3/20\n",
            "1563/1563 [==============================] - 9s 6ms/step - loss: 1.6789 - accuracy: 0.4028\n",
            "Epoch 4/20\n",
            "1563/1563 [==============================] - 8s 5ms/step - loss: 1.6331 - accuracy: 0.4202\n",
            "Epoch 5/20\n",
            "1563/1563 [==============================] - 8s 5ms/step - loss: 1.6032 - accuracy: 0.4323\n",
            "Epoch 6/20\n",
            "1563/1563 [==============================] - 9s 5ms/step - loss: 1.5651 - accuracy: 0.4455\n",
            "Epoch 7/20\n",
            "1563/1563 [==============================] - 9s 6ms/step - loss: 1.5483 - accuracy: 0.4541\n",
            "Epoch 8/20\n",
            "1563/1563 [==============================] - 8s 5ms/step - loss: 1.5222 - accuracy: 0.4640\n",
            "Epoch 9/20\n",
            "1563/1563 [==============================] - 9s 5ms/step - loss: 1.5060 - accuracy: 0.4705\n",
            "Epoch 10/20\n",
            "1563/1563 [==============================] - 8s 5ms/step - loss: 1.4940 - accuracy: 0.4756\n",
            "Epoch 11/20\n",
            "1563/1563 [==============================] - 8s 5ms/step - loss: 1.4727 - accuracy: 0.4776\n",
            "Epoch 12/20\n",
            "1563/1563 [==============================] - 9s 5ms/step - loss: 1.4603 - accuracy: 0.4853\n",
            "Epoch 13/20\n",
            "1563/1563 [==============================] - 8s 5ms/step - loss: 1.4426 - accuracy: 0.4935\n",
            "Epoch 14/20\n",
            "1563/1563 [==============================] - 9s 6ms/step - loss: 1.4353 - accuracy: 0.4951\n",
            "Epoch 15/20\n",
            "1563/1563 [==============================] - 8s 5ms/step - loss: 1.4240 - accuracy: 0.5000\n",
            "Epoch 16/20\n",
            "1563/1563 [==============================] - 8s 5ms/step - loss: 1.4159 - accuracy: 0.5012\n",
            "Epoch 17/20\n",
            "1563/1563 [==============================] - 8s 5ms/step - loss: 1.4011 - accuracy: 0.5081\n",
            "Epoch 18/20\n",
            "1563/1563 [==============================] - 8s 5ms/step - loss: 1.4014 - accuracy: 0.5080\n",
            "Epoch 19/20\n",
            "1563/1563 [==============================] - 8s 5ms/step - loss: 1.3936 - accuracy: 0.5134\n",
            "Epoch 20/20\n",
            "1563/1563 [==============================] - 8s 5ms/step - loss: 1.3779 - accuracy: 0.5167\n",
            "313/313 - 1s - loss: 1.2445 - accuracy: 0.5554 - 784ms/epoch - 3ms/step\n",
            "Test accuracy : 0.555400013923645\n",
            "INFO:tensorflow:Assets written to: ./my_models/training5_relu_model/assets\n"
          ]
        }
      ],
      "source": [
        "model = create_model(dropout_rate=0.4,\n",
        "                     nb_layers=5,nb_neurones=[512,264,132,128,10],\n",
        "                     activation_functions=[\"relu\",\"relu\",\"relu\",\"relu\",\"softmax\"],\n",
        "                     weight_initializations=[\"lecun_uniform\",\"lecun_uniform\",\"lecun_uniform\",\"lecun_uniform\",\"lecun_uniform\"])\n",
        "model.fit(x_train,y_train,epochs=20)\n",
        "loss_test, accuracy_test = model.evaluate(x_test,y_test,verbose=2)\n",
        "\n",
        "print(f\"Test accuracy : {accuracy_test}\")\n",
        "model.save('./my_models/training5_relu_model')"
      ]
    },
    {
      "cell_type": "code",
      "execution_count": null,
      "metadata": {
        "colab": {
          "base_uri": "https://localhost:8080/"
        },
        "id": "k0Gbmaj7zio_",
        "outputId": "5e904878-2868-4662-c350-af3d88368193"
      },
      "outputs": [
        {
          "name": "stdout",
          "output_type": "stream",
          "text": [
            "Epoch 1/20\n"
          ]
        },
        {
          "name": "stderr",
          "output_type": "stream",
          "text": [
            "/usr/local/lib/python3.7/dist-packages/tensorflow/python/util/dispatch.py:1082: UserWarning: \"`sparse_categorical_crossentropy` received `from_logits=True`, but the `output` argument was produced by a sigmoid or softmax activation and thus does not represent logits. Was this intended?\"\n",
            "  return dispatch_target(*args, **kwargs)\n"
          ]
        },
        {
          "name": "stdout",
          "output_type": "stream",
          "text": [
            "1563/1563 [==============================] - 10s 6ms/step - loss: 1.9228 - accuracy: 0.3169\n",
            "Epoch 2/20\n",
            "1563/1563 [==============================] - 8s 5ms/step - loss: 1.7092 - accuracy: 0.3879\n",
            "Epoch 3/20\n",
            "1563/1563 [==============================] - 8s 5ms/step - loss: 1.6430 - accuracy: 0.4153\n",
            "Epoch 4/20\n",
            "1563/1563 [==============================] - 8s 5ms/step - loss: 1.5964 - accuracy: 0.4316\n",
            "Epoch 5/20\n",
            "1563/1563 [==============================] - 8s 5ms/step - loss: 1.5687 - accuracy: 0.4442\n",
            "Epoch 6/20\n",
            "1563/1563 [==============================] - 8s 5ms/step - loss: 1.5437 - accuracy: 0.4531\n",
            "Epoch 7/20\n",
            "1563/1563 [==============================] - 8s 5ms/step - loss: 1.5212 - accuracy: 0.4624\n",
            "Epoch 8/20\n",
            "1563/1563 [==============================] - 9s 5ms/step - loss: 1.4991 - accuracy: 0.4712\n",
            "Epoch 9/20\n",
            "1563/1563 [==============================] - 8s 5ms/step - loss: 1.4786 - accuracy: 0.4789\n",
            "Epoch 10/20\n",
            "1563/1563 [==============================] - 8s 5ms/step - loss: 1.4671 - accuracy: 0.4830\n",
            "Epoch 11/20\n",
            "1563/1563 [==============================] - 8s 5ms/step - loss: 1.4487 - accuracy: 0.4899\n",
            "Epoch 12/20\n",
            "1563/1563 [==============================] - 8s 5ms/step - loss: 1.4335 - accuracy: 0.4969\n",
            "Epoch 13/20\n",
            "1563/1563 [==============================] - 8s 5ms/step - loss: 1.4273 - accuracy: 0.4976\n",
            "Epoch 14/20\n",
            "1563/1563 [==============================] - 8s 5ms/step - loss: 1.4138 - accuracy: 0.5043\n",
            "Epoch 15/20\n",
            "1563/1563 [==============================] - 8s 5ms/step - loss: 1.4008 - accuracy: 0.5069\n",
            "Epoch 16/20\n",
            "1563/1563 [==============================] - 8s 5ms/step - loss: 1.3966 - accuracy: 0.5116\n",
            "Epoch 17/20\n",
            "1563/1563 [==============================] - 9s 5ms/step - loss: 1.3893 - accuracy: 0.5138\n",
            "Epoch 18/20\n",
            "1563/1563 [==============================] - 8s 5ms/step - loss: 1.3831 - accuracy: 0.5171\n",
            "Epoch 19/20\n",
            "1563/1563 [==============================] - 8s 5ms/step - loss: 1.3742 - accuracy: 0.5195\n",
            "Epoch 20/20\n",
            "1563/1563 [==============================] - 8s 5ms/step - loss: 1.3598 - accuracy: 0.5241\n",
            "313/313 - 1s - loss: 1.2305 - accuracy: 0.5646 - 798ms/epoch - 3ms/step\n",
            "Test accuracy : 0.5645999908447266\n",
            "INFO:tensorflow:Assets written to: ./my_models/training5_elu_model/assets\n"
          ]
        }
      ],
      "source": [
        "model = create_model(dropout_rate=0.4,\n",
        "                     nb_layers=5,nb_neurones=[512,264,132,128,10],\n",
        "                     activation_functions=[\"elu\",\"elu\",\"elu\",\"elu\",\"softmax\"],\n",
        "                     weight_initializations=[\"lecun_uniform\",\"lecun_uniform\",\"lecun_uniform\",\"lecun_uniform\",\"lecun_uniform\"])\n",
        "model.fit(x_train,y_train,epochs=20)\n",
        "loss_test, accuracy_test = model.evaluate(x_test,y_test,verbose=2)\n",
        "\n",
        "print(f\"Test accuracy : {accuracy_test}\")\n",
        "model.save('./my_models/training5_elu_model')"
      ]
    },
    {
      "cell_type": "markdown",
      "metadata": {
        "id": "M3ZQi8dkPnJG"
      },
      "source": [
        "**Analysis :**\n",
        "\n",
        "Using elu activation function with Lecun initialization gave better results"
      ]
    },
    {
      "cell_type": "code",
      "execution_count": null,
      "metadata": {
        "colab": {
          "base_uri": "https://localhost:8080/"
        },
        "id": "Tsgy75Sx02iv",
        "outputId": "3dc38f4a-fcec-4679-ba90-d83bc87839b9"
      },
      "outputs": [
        {
          "name": "stdout",
          "output_type": "stream",
          "text": [
            "Epoch 1/20\n"
          ]
        },
        {
          "name": "stderr",
          "output_type": "stream",
          "text": [
            "/usr/local/lib/python3.7/dist-packages/tensorflow/python/util/dispatch.py:1082: UserWarning: \"`sparse_categorical_crossentropy` received `from_logits=True`, but the `output` argument was produced by a sigmoid or softmax activation and thus does not represent logits. Was this intended?\"\n",
            "  return dispatch_target(*args, **kwargs)\n"
          ]
        },
        {
          "name": "stdout",
          "output_type": "stream",
          "text": [
            "1563/1563 [==============================] - 10s 5ms/step - loss: 1.9284 - accuracy: 0.3120\n",
            "Epoch 2/20\n",
            "1563/1563 [==============================] - 8s 5ms/step - loss: 1.7145 - accuracy: 0.3879\n",
            "Epoch 3/20\n",
            "1563/1563 [==============================] - 8s 5ms/step - loss: 1.6478 - accuracy: 0.4154\n",
            "Epoch 4/20\n",
            "1563/1563 [==============================] - 9s 5ms/step - loss: 1.6093 - accuracy: 0.4296\n",
            "Epoch 5/20\n",
            "1563/1563 [==============================] - 8s 5ms/step - loss: 1.5703 - accuracy: 0.4442\n",
            "Epoch 6/20\n",
            "1563/1563 [==============================] - 9s 5ms/step - loss: 1.5389 - accuracy: 0.4568\n",
            "Epoch 7/20\n",
            "1563/1563 [==============================] - 9s 6ms/step - loss: 1.5203 - accuracy: 0.4632\n",
            "Epoch 8/20\n",
            "1563/1563 [==============================] - 9s 6ms/step - loss: 1.4996 - accuracy: 0.4694\n",
            "Epoch 9/20\n",
            "1563/1563 [==============================] - 8s 5ms/step - loss: 1.4873 - accuracy: 0.4748\n",
            "Epoch 10/20\n",
            "1563/1563 [==============================] - 8s 5ms/step - loss: 1.4665 - accuracy: 0.4823\n",
            "Epoch 11/20\n",
            "1563/1563 [==============================] - 8s 5ms/step - loss: 1.4475 - accuracy: 0.4923\n",
            "Epoch 12/20\n",
            "1563/1563 [==============================] - 8s 5ms/step - loss: 1.4443 - accuracy: 0.4908\n",
            "Epoch 13/20\n",
            "1563/1563 [==============================] - 8s 5ms/step - loss: 1.4358 - accuracy: 0.4954\n",
            "Epoch 14/20\n",
            "1563/1563 [==============================] - 8s 5ms/step - loss: 1.4197 - accuracy: 0.5009\n",
            "Epoch 15/20\n",
            "1563/1563 [==============================] - 8s 5ms/step - loss: 1.4035 - accuracy: 0.5088\n",
            "Epoch 16/20\n",
            "1563/1563 [==============================] - 8s 5ms/step - loss: 1.3965 - accuracy: 0.5084\n",
            "Epoch 17/20\n",
            "1563/1563 [==============================] - 8s 5ms/step - loss: 1.3868 - accuracy: 0.5129\n",
            "Epoch 18/20\n",
            "1563/1563 [==============================] - 8s 5ms/step - loss: 1.3765 - accuracy: 0.5177\n",
            "Epoch 19/20\n",
            "1563/1563 [==============================] - 9s 5ms/step - loss: 1.3696 - accuracy: 0.5187\n",
            "Epoch 20/20\n",
            "1563/1563 [==============================] - 9s 6ms/step - loss: 1.3658 - accuracy: 0.5230\n",
            "313/313 - 1s - loss: 1.2308 - accuracy: 0.5606 - 798ms/epoch - 3ms/step\n",
            "Test accuracy : 0.5605999827384949\n",
            "INFO:tensorflow:Assets written to: ./my_models/training5_selu_model/assets\n"
          ]
        }
      ],
      "source": [
        "model = create_model(dropout_rate=0.4,\n",
        "                     nb_layers=5,nb_neurones=[512,264,132,128,10],\n",
        "                     activation_functions=[\"selu\",\"selu\",\"selu\",\"selu\",\"softmax\"],\n",
        "                     weight_initializations=[\"lecun_uniform\",\"lecun_uniform\",\"lecun_uniform\",\"lecun_uniform\",\"lecun_uniform\"])\n",
        "model.fit(x_train,y_train,epochs=20)\n",
        "loss_test, accuracy_test = model.evaluate(x_test,y_test,verbose=2)\n",
        "\n",
        "print(f\"Test accuracy : {accuracy_test}\")\n",
        "model.save('./my_models/training5_selu_model')"
      ]
    },
    {
      "cell_type": "code",
      "execution_count": null,
      "metadata": {
        "colab": {
          "base_uri": "https://localhost:8080/"
        },
        "id": "GFxm-lg_6wU-",
        "outputId": "5f0f4d8b-de19-458c-e72f-e423a639b7e9"
      },
      "outputs": [
        {
          "name": "stdout",
          "output_type": "stream",
          "text": [
            "Epoch 1/30\n"
          ]
        },
        {
          "name": "stderr",
          "output_type": "stream",
          "text": [
            "/usr/local/lib/python3.7/dist-packages/tensorflow/python/util/dispatch.py:1082: UserWarning: \"`sparse_categorical_crossentropy` received `from_logits=True`, but the `output` argument was produced by a sigmoid or softmax activation and thus does not represent logits. Was this intended?\"\n",
            "  return dispatch_target(*args, **kwargs)\n"
          ]
        },
        {
          "name": "stdout",
          "output_type": "stream",
          "text": [
            "1563/1563 [==============================] - 21s 10ms/step - loss: 1.9797 - accuracy: 0.2906\n",
            "Epoch 2/30\n",
            "1563/1563 [==============================] - 16s 10ms/step - loss: 1.7554 - accuracy: 0.3712\n",
            "Epoch 3/30\n",
            "1563/1563 [==============================] - 16s 10ms/step - loss: 1.6895 - accuracy: 0.3976\n",
            "Epoch 4/30\n",
            "1563/1563 [==============================] - 16s 10ms/step - loss: 1.6444 - accuracy: 0.4182\n",
            "Epoch 5/30\n",
            "1563/1563 [==============================] - 16s 10ms/step - loss: 1.6098 - accuracy: 0.4292\n",
            "Epoch 6/30\n",
            "1563/1563 [==============================] - 16s 10ms/step - loss: 1.5841 - accuracy: 0.4425\n",
            "Epoch 7/30\n",
            "1563/1563 [==============================] - 16s 10ms/step - loss: 1.5545 - accuracy: 0.4537\n",
            "Epoch 8/30\n",
            "1563/1563 [==============================] - 16s 10ms/step - loss: 1.5320 - accuracy: 0.4601\n",
            "Epoch 9/30\n",
            "1563/1563 [==============================] - 16s 10ms/step - loss: 1.5207 - accuracy: 0.4669\n",
            "Epoch 10/30\n",
            "1563/1563 [==============================] - 16s 10ms/step - loss: 1.5050 - accuracy: 0.4743\n",
            "Epoch 11/30\n",
            "1563/1563 [==============================] - 16s 10ms/step - loss: 1.4842 - accuracy: 0.4777\n",
            "Epoch 12/30\n",
            "1563/1563 [==============================] - 16s 10ms/step - loss: 1.4668 - accuracy: 0.4867\n",
            "Epoch 13/30\n",
            "1563/1563 [==============================] - 16s 10ms/step - loss: 1.4585 - accuracy: 0.4901\n",
            "Epoch 14/30\n",
            "1563/1563 [==============================] - 16s 10ms/step - loss: 1.4478 - accuracy: 0.4921\n",
            "Epoch 15/30\n",
            "1563/1563 [==============================] - 16s 10ms/step - loss: 1.4316 - accuracy: 0.4985\n",
            "Epoch 16/30\n",
            "1563/1563 [==============================] - 16s 10ms/step - loss: 1.4288 - accuracy: 0.5028\n",
            "Epoch 17/30\n",
            "1563/1563 [==============================] - 16s 10ms/step - loss: 1.4149 - accuracy: 0.5058\n",
            "Epoch 18/30\n",
            "1563/1563 [==============================] - 16s 10ms/step - loss: 1.4070 - accuracy: 0.5094\n",
            "Epoch 19/30\n",
            "1563/1563 [==============================] - 16s 10ms/step - loss: 1.4004 - accuracy: 0.5121\n",
            "Epoch 20/30\n",
            "1563/1563 [==============================] - 16s 10ms/step - loss: 1.3909 - accuracy: 0.5167\n",
            "Epoch 21/30\n",
            "1563/1563 [==============================] - 16s 10ms/step - loss: 1.3837 - accuracy: 0.5187\n",
            "Epoch 22/30\n",
            "1563/1563 [==============================] - 16s 10ms/step - loss: 1.3712 - accuracy: 0.5236\n",
            "Epoch 23/30\n",
            "1563/1563 [==============================] - 16s 10ms/step - loss: 1.3747 - accuracy: 0.5212\n",
            "Epoch 24/30\n",
            "1563/1563 [==============================] - 16s 10ms/step - loss: 1.3672 - accuracy: 0.5278\n",
            "Epoch 25/30\n",
            "1563/1563 [==============================] - 16s 10ms/step - loss: 1.3552 - accuracy: 0.5298\n",
            "Epoch 26/30\n",
            "1563/1563 [==============================] - 16s 10ms/step - loss: 1.3514 - accuracy: 0.5314\n",
            "Epoch 27/30\n",
            "1563/1563 [==============================] - 16s 10ms/step - loss: 1.3438 - accuracy: 0.5322\n",
            "Epoch 28/30\n",
            "1563/1563 [==============================] - 16s 10ms/step - loss: 1.3355 - accuracy: 0.5337\n",
            "Epoch 29/30\n",
            "1563/1563 [==============================] - 16s 10ms/step - loss: 1.3293 - accuracy: 0.5373\n",
            "Epoch 30/30\n",
            "1563/1563 [==============================] - 16s 10ms/step - loss: 1.3302 - accuracy: 0.5373\n",
            "313/313 - 1s - loss: 1.2078 - accuracy: 0.5695 - 1s/epoch - 4ms/step\n",
            "Test accuracy : 0.5695000290870667\n",
            "INFO:tensorflow:Assets written to: ./my_models/training5_7layers_selu_lecun_normal_model/assets\n"
          ]
        }
      ],
      "source": [
        "# Changing the number of layers and number of epochs\n",
        "model = create_model(dropout_rate=0.4,\n",
        "                     nb_layers=7,nb_neurones=[512,464,312,264,132,128,10],\n",
        "                     activation_functions=[\"selu\",\"selu\",\"selu\",\"selu\",\"selu\",\"selu\",\"softmax\"],\n",
        "                     weight_initializations=[\"lecun_normal\",\"lecun_normal\",\"lecun_normal\",\"lecun_normal\",\"lecun_normal\",\"lecun_normal\",\"lecun_normal\"])\n",
        "model.fit(x_train,y_train,epochs=30)\n",
        "loss_test, accuracy_test = model.evaluate(x_test,y_test,verbose=2)\n",
        "\n",
        "print(f\"Test accuracy : {accuracy_test}\")\n",
        "model.save('./my_models/training5_7layers_selu_lecun_normal_model')"
      ]
    },
    {
      "cell_type": "markdown",
      "metadata": {
        "id": "sRyfLgt3iVRn"
      },
      "source": [
        "**Analysis :**\n",
        "\n",
        "Increasing the number of layers and epochs didn't help improving the accuracy"
      ]
    },
    {
      "cell_type": "code",
      "execution_count": null,
      "metadata": {
        "colab": {
          "base_uri": "https://localhost:8080/"
        },
        "id": "XT3GVUeE_aZh",
        "outputId": "78122e15-d720-433c-f5ae-d23f18d29492"
      },
      "outputs": [
        {
          "name": "stdout",
          "output_type": "stream",
          "text": [
            "Epoch 1/30\n"
          ]
        },
        {
          "name": "stderr",
          "output_type": "stream",
          "text": [
            "/usr/local/lib/python3.7/dist-packages/tensorflow/python/util/dispatch.py:1082: UserWarning: \"`sparse_categorical_crossentropy` received `from_logits=True`, but the `output` argument was produced by a sigmoid or softmax activation and thus does not represent logits. Was this intended?\"\n",
            "  return dispatch_target(*args, **kwargs)\n"
          ]
        },
        {
          "name": "stdout",
          "output_type": "stream",
          "text": [
            "1563/1563 [==============================] - 17s 8ms/step - loss: 2.0764 - accuracy: 0.2382\n",
            "Epoch 2/30\n",
            "1563/1563 [==============================] - 12s 8ms/step - loss: 1.8917 - accuracy: 0.3090\n",
            "Epoch 3/30\n",
            "1563/1563 [==============================] - 12s 8ms/step - loss: 1.8499 - accuracy: 0.3259\n",
            "Epoch 4/30\n",
            "1563/1563 [==============================] - 12s 8ms/step - loss: 1.8214 - accuracy: 0.3421\n",
            "Epoch 5/30\n",
            "1563/1563 [==============================] - 12s 8ms/step - loss: 1.7967 - accuracy: 0.3531\n",
            "Epoch 6/30\n",
            "1563/1563 [==============================] - 13s 9ms/step - loss: 1.7817 - accuracy: 0.3603\n",
            "Epoch 7/30\n",
            "1563/1563 [==============================] - 12s 8ms/step - loss: 1.7654 - accuracy: 0.3656\n",
            "Epoch 8/30\n",
            "1563/1563 [==============================] - 12s 8ms/step - loss: 1.7546 - accuracy: 0.3725\n",
            "Epoch 9/30\n",
            "1563/1563 [==============================] - 12s 8ms/step - loss: 1.7498 - accuracy: 0.3745\n",
            "Epoch 10/30\n",
            "1563/1563 [==============================] - 12s 8ms/step - loss: 1.7407 - accuracy: 0.3758\n",
            "Epoch 11/30\n",
            "1563/1563 [==============================] - 12s 8ms/step - loss: 1.7295 - accuracy: 0.3864\n",
            "Epoch 12/30\n",
            "1563/1563 [==============================] - 12s 8ms/step - loss: 1.7266 - accuracy: 0.3835\n",
            "Epoch 13/30\n",
            "1563/1563 [==============================] - 12s 8ms/step - loss: 1.7190 - accuracy: 0.3870\n",
            "Epoch 14/30\n",
            "1563/1563 [==============================] - 12s 8ms/step - loss: 1.7153 - accuracy: 0.3906\n",
            "Epoch 15/30\n",
            "1563/1563 [==============================] - 12s 8ms/step - loss: 1.7062 - accuracy: 0.3931\n",
            "Epoch 16/30\n",
            "1563/1563 [==============================] - 12s 8ms/step - loss: 1.7100 - accuracy: 0.3958\n",
            "Epoch 17/30\n",
            "1563/1563 [==============================] - 12s 8ms/step - loss: 1.7019 - accuracy: 0.3971\n",
            "Epoch 18/30\n",
            "1563/1563 [==============================] - 13s 8ms/step - loss: 1.7003 - accuracy: 0.3963\n",
            "Epoch 19/30\n",
            "1563/1563 [==============================] - 13s 8ms/step - loss: 1.6937 - accuracy: 0.3987\n",
            "Epoch 20/30\n",
            "1563/1563 [==============================] - 13s 8ms/step - loss: 1.6897 - accuracy: 0.4003\n",
            "Epoch 21/30\n",
            "1563/1563 [==============================] - 13s 8ms/step - loss: 1.6917 - accuracy: 0.3997\n",
            "Epoch 22/30\n",
            "1563/1563 [==============================] - 13s 9ms/step - loss: 1.6898 - accuracy: 0.4002\n",
            "Epoch 23/30\n",
            "1563/1563 [==============================] - 13s 8ms/step - loss: 1.6840 - accuracy: 0.4047\n",
            "Epoch 24/30\n",
            "1563/1563 [==============================] - 13s 8ms/step - loss: 1.6892 - accuracy: 0.4023\n",
            "Epoch 25/30\n",
            "1563/1563 [==============================] - 13s 8ms/step - loss: 1.6843 - accuracy: 0.4015\n",
            "Epoch 26/30\n",
            "1563/1563 [==============================] - 13s 8ms/step - loss: 1.6759 - accuracy: 0.4083\n",
            "Epoch 27/30\n",
            "1563/1563 [==============================] - 13s 8ms/step - loss: 1.6795 - accuracy: 0.4067\n",
            "Epoch 28/30\n",
            "1563/1563 [==============================] - 13s 8ms/step - loss: 1.6753 - accuracy: 0.4084\n",
            "Epoch 29/30\n",
            "1563/1563 [==============================] - 13s 8ms/step - loss: 1.6750 - accuracy: 0.4078\n",
            "Epoch 30/30\n",
            "1563/1563 [==============================] - 13s 8ms/step - loss: 1.6696 - accuracy: 0.4101\n",
            "313/313 - 1s - loss: 1.4662 - accuracy: 0.4818 - 1s/epoch - 4ms/step\n",
            "Test accuracy : 0.48179998993873596\n",
            "INFO:tensorflow:Assets written to: ./my_models/training5_6layers_selu_lecun_normal_model/assets\n"
          ]
        }
      ],
      "source": [
        "# Changing the number of layers and number of neurones\n",
        "model = create_model(dropout_rate=0.4,\n",
        "                     nb_layers=6,nb_neurones=[64,64,64,64,64,10],\n",
        "                     activation_functions=[\"selu\",\"selu\",\"selu\",\"selu\",\"selu\",\"softmax\"],\n",
        "                     weight_initializations=[\"lecun_normal\",\"lecun_normal\",\"lecun_normal\",\"lecun_normal\",\"lecun_normal\",\"lecun_normal\"])\n",
        "model.fit(x_train,y_train,epochs=30)\n",
        "loss_test, accuracy_test = model.evaluate(x_test,y_test,verbose=2)\n",
        "\n",
        "print(f\"Test accuracy : {accuracy_test}\")\n",
        "model.save('./my_models/training5_6layers_selu_lecun_normal_model')"
      ]
    },
    {
      "cell_type": "code",
      "execution_count": null,
      "metadata": {
        "colab": {
          "base_uri": "https://localhost:8080/"
        },
        "id": "M6nQG9yNCSfc",
        "outputId": "83669f60-73f1-4f29-88dd-36a3b153f2c1"
      },
      "outputs": [
        {
          "name": "stdout",
          "output_type": "stream",
          "text": [
            "Epoch 1/30\n"
          ]
        },
        {
          "name": "stderr",
          "output_type": "stream",
          "text": [
            "/usr/local/lib/python3.7/dist-packages/tensorflow/python/util/dispatch.py:1082: UserWarning: \"`sparse_categorical_crossentropy` received `from_logits=True`, but the `output` argument was produced by a sigmoid or softmax activation and thus does not represent logits. Was this intended?\"\n",
            "  return dispatch_target(*args, **kwargs)\n"
          ]
        },
        {
          "name": "stdout",
          "output_type": "stream",
          "text": [
            "1563/1563 [==============================] - 16s 9ms/step - loss: 2.1890 - accuracy: 0.2402\n",
            "Epoch 2/30\n",
            "1563/1563 [==============================] - 14s 9ms/step - loss: 1.8276 - accuracy: 0.3388\n",
            "Epoch 3/30\n",
            "1563/1563 [==============================] - 14s 9ms/step - loss: 1.7480 - accuracy: 0.3742\n",
            "Epoch 4/30\n",
            "1563/1563 [==============================] - 14s 9ms/step - loss: 1.7005 - accuracy: 0.3928\n",
            "Epoch 5/30\n",
            "1563/1563 [==============================] - 14s 9ms/step - loss: 1.6616 - accuracy: 0.4102\n",
            "Epoch 6/30\n",
            "1563/1563 [==============================] - 14s 9ms/step - loss: 1.6276 - accuracy: 0.4246\n",
            "Epoch 7/30\n",
            "1563/1563 [==============================] - 15s 9ms/step - loss: 1.6015 - accuracy: 0.4349\n",
            "Epoch 8/30\n",
            "1563/1563 [==============================] - 14s 9ms/step - loss: 1.5783 - accuracy: 0.4440\n",
            "Epoch 9/30\n",
            "1563/1563 [==============================] - 14s 9ms/step - loss: 1.5565 - accuracy: 0.4516\n",
            "Epoch 10/30\n",
            "1563/1563 [==============================] - 14s 9ms/step - loss: 1.5408 - accuracy: 0.4596\n",
            "Epoch 11/30\n",
            "1563/1563 [==============================] - 14s 9ms/step - loss: 1.5292 - accuracy: 0.4645\n",
            "Epoch 12/30\n",
            "1563/1563 [==============================] - 14s 9ms/step - loss: 1.5138 - accuracy: 0.4670\n",
            "Epoch 13/30\n",
            "1563/1563 [==============================] - 14s 9ms/step - loss: 1.5036 - accuracy: 0.4698\n",
            "Epoch 14/30\n",
            "1563/1563 [==============================] - 14s 9ms/step - loss: 1.4888 - accuracy: 0.4786\n",
            "Epoch 15/30\n",
            "1563/1563 [==============================] - 14s 9ms/step - loss: 1.4757 - accuracy: 0.4817\n",
            "Epoch 16/30\n",
            "1563/1563 [==============================] - 14s 9ms/step - loss: 1.4671 - accuracy: 0.4838\n",
            "Epoch 17/30\n",
            "1563/1563 [==============================] - 14s 9ms/step - loss: 1.4604 - accuracy: 0.4888\n",
            "Epoch 18/30\n",
            "1563/1563 [==============================] - 14s 9ms/step - loss: 1.4475 - accuracy: 0.4912\n",
            "Epoch 19/30\n",
            "1563/1563 [==============================] - 14s 9ms/step - loss: 1.4442 - accuracy: 0.4926\n",
            "Epoch 20/30\n",
            "1563/1563 [==============================] - 14s 9ms/step - loss: 1.4339 - accuracy: 0.4977\n",
            "Epoch 21/30\n",
            "1563/1563 [==============================] - 14s 9ms/step - loss: 1.4351 - accuracy: 0.4980\n",
            "Epoch 22/30\n",
            "1563/1563 [==============================] - 14s 9ms/step - loss: 1.4219 - accuracy: 0.5011\n",
            "Epoch 23/30\n",
            "1563/1563 [==============================] - 15s 9ms/step - loss: 1.4144 - accuracy: 0.5051\n",
            "Epoch 24/30\n",
            "1563/1563 [==============================] - 14s 9ms/step - loss: 1.4136 - accuracy: 0.5067\n",
            "Epoch 25/30\n",
            "1563/1563 [==============================] - 14s 9ms/step - loss: 1.4092 - accuracy: 0.5061\n",
            "Epoch 26/30\n",
            "1563/1563 [==============================] - 14s 9ms/step - loss: 1.4021 - accuracy: 0.5094\n",
            "Epoch 27/30\n",
            "1563/1563 [==============================] - 14s 9ms/step - loss: 1.3968 - accuracy: 0.5128\n",
            "Epoch 28/30\n",
            "1563/1563 [==============================] - 14s 9ms/step - loss: 1.3912 - accuracy: 0.5111\n",
            "Epoch 29/30\n",
            "1563/1563 [==============================] - 14s 9ms/step - loss: 1.3917 - accuracy: 0.5132\n",
            "Epoch 30/30\n",
            "1563/1563 [==============================] - 14s 9ms/step - loss: 1.3761 - accuracy: 0.5196\n",
            "313/313 - 1s - loss: 1.2335 - accuracy: 0.5596 - 1s/epoch - 4ms/step\n",
            "Test accuracy : 0.5595999956130981\n",
            "INFO:tensorflow:Assets written to: ./my_models/training5_6layers2_selu_lecun_normal_model/assets\n"
          ]
        }
      ],
      "source": [
        "# Changing the number of layers and number of neurones\n",
        "model = create_model(dropout_rate=0.4,\n",
        "                     nb_layers=6,nb_neurones=[364,264,228,164,128,10],\n",
        "                     activation_functions=[\"relu\",\"relu\",\"relu\",\"relu\",\"relu\",\"softmax\"],\n",
        "                     weight_initializations=[\"he_normal\",\"he_normal\",\"he_normal\",\"he_normal\",\"he_normal\",\"he_normal\"])\n",
        "model.fit(x_train,y_train,epochs=30)\n",
        "loss_test, accuracy_test = model.evaluate(x_test,y_test,verbose=2)\n",
        "\n",
        "print(f\"Test accuracy : {accuracy_test}\")\n",
        "model.save('./my_models/training5_6layers2_selu_lecun_normal_model')"
      ]
    },
    {
      "cell_type": "markdown",
      "metadata": {
        "id": "Mg2e5dtMG3LB"
      },
      "source": [
        "**Analysis :**\n",
        "\n",
        "Despite all the changes, the accuracy is still low.\n",
        "\n",
        "We noticed that the accuracy was better when using ReLU alongside with He intialization function.\n",
        "\n",
        "When increasing the number of layers, the accuracy didn't improve. In addition we noticed that using the same number of neurones in all layers gave us a bad accuracy, compared to the models where we used a different number of neurones in each layer.\n",
        "\n",
        "Therefore untill now the best model is the one using 3 layers with relu activation functions, He initialization method, with BatchNormalization layers being used before each layer and using a rate= 0.4 for the Dropout Layer."
      ]
    },
    {
      "cell_type": "markdown",
      "metadata": {
        "id": "fc8lCKMlGMrb"
      },
      "source": [
        "## Few more experiments to go\n",
        "\n",
        "1.   **Exploring more regularization techniques:** Try at least 2 regularization techniques separately and combined.  A non-exhaustive list of regularization techniques you can test\n",
        "\n",
        "\n",
        "> * L1 and L2 regularization\n",
        "* Early stopping\n",
        "* Data augmentation\n",
        "* Decreasing the complexity of the model\n",
        "\n",
        "2.   **Hyperparameters' tuning:** Try to tune the learning parameters using the tuning strategies we learned about:\n",
        "\n",
        "> * Learning rate\n",
        "* Mini-batch size\n",
        "* The optimizer and its parameters\n",
        "\n",
        "3. Analyze the impact of each of the applied techniques. What were the most effective ones? What were the hypeparameters that affects the results the most?\n"
      ]
    },
    {
      "cell_type": "markdown",
      "metadata": {
        "id": "zkp1pOo6IOIK"
      },
      "source": [
        "####1. Exploring Regularization techniques"
      ]
    },
    {
      "cell_type": "code",
      "execution_count": null,
      "metadata": {
        "colab": {
          "base_uri": "https://localhost:8080/"
        },
        "id": "OBXIjaAVGMPd",
        "outputId": "b990b072-d124-4985-adae-1d18227d8ff3"
      },
      "outputs": [
        {
          "name": "stdout",
          "output_type": "stream",
          "text": [
            "Epoch 1/20\n"
          ]
        },
        {
          "name": "stderr",
          "output_type": "stream",
          "text": [
            "/usr/local/lib/python3.7/dist-packages/tensorflow/python/util/dispatch.py:1082: UserWarning: \"`sparse_categorical_crossentropy` received `from_logits=True`, but the `output` argument was produced by a sigmoid or softmax activation and thus does not represent logits. Was this intended?\"\n",
            "  return dispatch_target(*args, **kwargs)\n"
          ]
        },
        {
          "name": "stdout",
          "output_type": "stream",
          "text": [
            "1563/1563 [==============================] - 22s 11ms/step - loss: 34.6224 - accuracy: 0.1683\n",
            "Epoch 2/20\n",
            "1563/1563 [==============================] - 16s 11ms/step - loss: 7.0282 - accuracy: 0.1768\n",
            "Epoch 3/20\n",
            "1563/1563 [==============================] - 17s 11ms/step - loss: 6.7047 - accuracy: 0.1634\n",
            "Epoch 4/20\n",
            "1563/1563 [==============================] - 16s 10ms/step - loss: 6.4354 - accuracy: 0.1629\n",
            "Epoch 5/20\n",
            "1563/1563 [==============================] - 16s 11ms/step - loss: 6.1622 - accuracy: 0.1614\n",
            "Epoch 6/20\n",
            "1563/1563 [==============================] - 17s 11ms/step - loss: 5.8900 - accuracy: 0.1675\n",
            "Epoch 7/20\n",
            "1563/1563 [==============================] - 16s 10ms/step - loss: 5.5946 - accuracy: 0.1643\n",
            "Epoch 8/20\n",
            "1563/1563 [==============================] - 16s 10ms/step - loss: 5.5339 - accuracy: 0.1692\n",
            "Epoch 9/20\n",
            "1563/1563 [==============================] - 16s 11ms/step - loss: 5.3350 - accuracy: 0.1667\n",
            "Epoch 10/20\n",
            "1563/1563 [==============================] - 17s 11ms/step - loss: 5.1479 - accuracy: 0.1642\n",
            "Epoch 11/20\n",
            "1563/1563 [==============================] - 17s 11ms/step - loss: 5.0062 - accuracy: 0.1663\n",
            "Epoch 12/20\n",
            "1563/1563 [==============================] - 17s 11ms/step - loss: 4.8592 - accuracy: 0.1674\n",
            "Epoch 13/20\n",
            "1563/1563 [==============================] - 17s 11ms/step - loss: 4.7750 - accuracy: 0.1669\n",
            "Epoch 14/20\n",
            "1563/1563 [==============================] - 17s 11ms/step - loss: 4.6634 - accuracy: 0.1671\n",
            "Epoch 15/20\n",
            "1563/1563 [==============================] - 17s 11ms/step - loss: 4.6090 - accuracy: 0.1646\n",
            "Epoch 16/20\n",
            "1563/1563 [==============================] - 17s 11ms/step - loss: 4.5035 - accuracy: 0.1645\n",
            "Epoch 17/20\n",
            "1563/1563 [==============================] - 17s 11ms/step - loss: 4.4615 - accuracy: 0.1654\n",
            "Epoch 18/20\n",
            "1563/1563 [==============================] - 16s 11ms/step - loss: 4.3795 - accuracy: 0.1658\n",
            "Epoch 19/20\n",
            "1563/1563 [==============================] - 16s 10ms/step - loss: 4.3957 - accuracy: 0.1681\n",
            "Epoch 20/20\n",
            "1563/1563 [==============================] - 16s 10ms/step - loss: 4.3308 - accuracy: 0.1681\n",
            "313/313 - 1s - loss: 4.1873 - accuracy: 0.1685 - 1s/epoch - 4ms/step\n",
            "Test accuracy : 0.16850000619888306\n",
            "INFO:tensorflow:Assets written to: /content/drive/MyDrive/Colab_Notebooks/Project4/models/training6_L1_model/assets\n"
          ]
        }
      ],
      "source": [
        "# Your code here\n",
        "# L1\n",
        "model = create_model(dropout_rate = 0.4,\n",
        "                     nb_layers=6,nb_neurones=[364,264,228,164,128,10],\n",
        "                     activation_functions=[\"relu\",\"relu\",\"relu\",\"relu\",\"relu\",\"softmax\"],\n",
        "                     weight_initializations=[\"he_normal\",\"he_normal\",\"he_normal\",\"he_normal\",\"he_normal\",\"he_normal\"],\n",
        "                     regularizer=L1(0.01)\n",
        "                     )\n",
        "model.fit(x_train,y_train,epochs=20)\n",
        "loss_test, accuracy_test = model.evaluate(x_test,y_test,verbose=2)\n",
        "\n",
        "print(f\"Test accuracy : {accuracy_test}\")\n",
        "model.save('/content/drive/MyDrive/Colab_Notebooks/Project4/models/training6_L1_model')"
      ]
    },
    {
      "cell_type": "markdown",
      "metadata": {
        "id": "N1IxVuxvWqqO"
      },
      "source": [
        "**Analysis :**\n",
        "\n",
        "Using Dropout and L1 regularization gave bad result. Maybe we should be removing the Dropout Layer"
      ]
    },
    {
      "cell_type": "code",
      "execution_count": null,
      "metadata": {
        "colab": {
          "base_uri": "https://localhost:8080/"
        },
        "id": "SIK-spj-XBc0",
        "outputId": "2b86b873-b24e-4c17-c6af-9362294185d4"
      },
      "outputs": [
        {
          "name": "stdout",
          "output_type": "stream",
          "text": [
            "Epoch 1/20\n"
          ]
        },
        {
          "name": "stderr",
          "output_type": "stream",
          "text": [
            "/usr/local/lib/python3.7/dist-packages/tensorflow/python/util/dispatch.py:1082: UserWarning: \"`sparse_categorical_crossentropy` received `from_logits=True`, but the `output` argument was produced by a sigmoid or softmax activation and thus does not represent logits. Was this intended?\"\n",
            "  return dispatch_target(*args, **kwargs)\n"
          ]
        },
        {
          "name": "stdout",
          "output_type": "stream",
          "text": [
            "1563/1563 [==============================] - 18s 10ms/step - loss: 11.2504 - accuracy: 0.1676\n",
            "Epoch 2/20\n",
            "1563/1563 [==============================] - 16s 10ms/step - loss: 4.7247 - accuracy: 0.1960\n",
            "Epoch 3/20\n",
            "1563/1563 [==============================] - 16s 10ms/step - loss: 4.3952 - accuracy: 0.2291\n",
            "Epoch 4/20\n",
            "1563/1563 [==============================] - 16s 11ms/step - loss: 4.1027 - accuracy: 0.2352\n",
            "Epoch 5/20\n",
            "1563/1563 [==============================] - 15s 10ms/step - loss: 3.9520 - accuracy: 0.2407\n",
            "Epoch 6/20\n",
            "1563/1563 [==============================] - 15s 10ms/step - loss: 3.7763 - accuracy: 0.2441\n",
            "Epoch 7/20\n",
            "1563/1563 [==============================] - 15s 10ms/step - loss: 3.7164 - accuracy: 0.2447\n",
            "Epoch 8/20\n",
            "1563/1563 [==============================] - 15s 10ms/step - loss: 3.6410 - accuracy: 0.2448\n",
            "Epoch 9/20\n",
            "1563/1563 [==============================] - 15s 10ms/step - loss: 3.5986 - accuracy: 0.2462\n",
            "Epoch 10/20\n",
            "1563/1563 [==============================] - 16s 10ms/step - loss: 3.5700 - accuracy: 0.2481\n",
            "Epoch 11/20\n",
            "1563/1563 [==============================] - 15s 10ms/step - loss: 3.5427 - accuracy: 0.2503\n",
            "Epoch 12/20\n",
            "1563/1563 [==============================] - 15s 10ms/step - loss: 3.5090 - accuracy: 0.2490\n",
            "Epoch 13/20\n",
            "1563/1563 [==============================] - 15s 10ms/step - loss: 3.4879 - accuracy: 0.2472\n",
            "Epoch 14/20\n",
            "1563/1563 [==============================] - 15s 10ms/step - loss: 3.4767 - accuracy: 0.2512\n",
            "Epoch 15/20\n",
            "1563/1563 [==============================] - 15s 10ms/step - loss: 3.4581 - accuracy: 0.2506\n",
            "Epoch 16/20\n",
            "1563/1563 [==============================] - 16s 10ms/step - loss: 3.4466 - accuracy: 0.2511\n",
            "Epoch 17/20\n",
            "1563/1563 [==============================] - 16s 10ms/step - loss: 3.4439 - accuracy: 0.2489\n",
            "Epoch 18/20\n",
            "1563/1563 [==============================] - 15s 10ms/step - loss: 3.4447 - accuracy: 0.2518\n",
            "Epoch 19/20\n",
            "1563/1563 [==============================] - 15s 10ms/step - loss: 3.4386 - accuracy: 0.2518\n",
            "Epoch 20/20\n",
            "1563/1563 [==============================] - 16s 10ms/step - loss: 3.4341 - accuracy: 0.2506\n",
            "313/313 - 1s - loss: 3.4162 - accuracy: 0.2566 - 1s/epoch - 4ms/step\n",
            "Test accuracy : 0.2565999925136566\n",
            "INFO:tensorflow:Assets written to: ./my_models/training6_L1_model_/assets\n"
          ]
        }
      ],
      "source": [
        "# Your code here\n",
        "# L1\n",
        "model = create_model(dropout_rate=0,\n",
        "                     nb_layers=6,nb_neurones=[364,264,228,164,128,10],\n",
        "                     activation_functions=[\"selu\",\"selu\",\"selu\",\"selu\",\"selu\",\"softmax\"],\n",
        "                     weight_initializations=[\"lecun_normal\",\"lecun_normal\",\"lecun_normal\",\"lecun_normal\",\"lecun_normal\",\"lecun_normal\"],\n",
        "                     regularizer=L1(0.01)\n",
        "                     )\n",
        "model.fit(x_train,y_train,epochs=20)\n",
        "loss_test, accuracy_test = model.evaluate(x_test,y_test,verbose=2)\n",
        "\n",
        "print(f\"Test accuracy : {accuracy_test}\")\n",
        "model.save('./my_models/training6_L1_model_')\n"
      ]
    },
    {
      "cell_type": "markdown",
      "metadata": {
        "id": "1AEKAbCLcYLL"
      },
      "source": [
        "**Analysis :**\n",
        "\n",
        "The accuracy is bad despite removing the Dropout Layer"
      ]
    },
    {
      "cell_type": "code",
      "execution_count": null,
      "metadata": {
        "colab": {
          "base_uri": "https://localhost:8080/"
        },
        "id": "vXJgNQotdVkW",
        "outputId": "4bb874dc-4dbf-41e0-8a85-71c9c6870016"
      },
      "outputs": [
        {
          "name": "stdout",
          "output_type": "stream",
          "text": [
            "Epoch 1/20\n"
          ]
        },
        {
          "name": "stderr",
          "output_type": "stream",
          "text": [
            "/usr/local/lib/python3.7/dist-packages/tensorflow/python/util/dispatch.py:1082: UserWarning: \"`sparse_categorical_crossentropy` received `from_logits=True`, but the `output` argument was produced by a sigmoid or softmax activation and thus does not represent logits. Was this intended?\"\n",
            "  return dispatch_target(*args, **kwargs)\n"
          ]
        },
        {
          "name": "stdout",
          "output_type": "stream",
          "text": [
            "1563/1563 [==============================] - 19s 11ms/step - loss: 3.9734 - accuracy: 0.2694\n",
            "Epoch 2/20\n",
            "1563/1563 [==============================] - 17s 11ms/step - loss: 2.3216 - accuracy: 0.2689\n",
            "Epoch 3/20\n",
            "1563/1563 [==============================] - 17s 11ms/step - loss: 2.3258 - accuracy: 0.2665\n",
            "Epoch 4/20\n",
            "1563/1563 [==============================] - 18s 11ms/step - loss: 2.3104 - accuracy: 0.2618\n",
            "Epoch 5/20\n",
            "1563/1563 [==============================] - 17s 11ms/step - loss: 2.2878 - accuracy: 0.2683\n",
            "Epoch 6/20\n",
            "1563/1563 [==============================] - 17s 11ms/step - loss: 2.2642 - accuracy: 0.2738\n",
            "Epoch 7/20\n",
            "1563/1563 [==============================] - 16s 11ms/step - loss: 2.2307 - accuracy: 0.2764\n",
            "Epoch 8/20\n",
            "1563/1563 [==============================] - 16s 11ms/step - loss: 2.2048 - accuracy: 0.2778\n",
            "Epoch 9/20\n",
            "1563/1563 [==============================] - 16s 10ms/step - loss: 2.1882 - accuracy: 0.2801\n",
            "Epoch 10/20\n",
            "1563/1563 [==============================] - 16s 10ms/step - loss: 2.1745 - accuracy: 0.2826\n",
            "Epoch 11/20\n",
            "1563/1563 [==============================] - 16s 11ms/step - loss: 2.1623 - accuracy: 0.2816\n",
            "Epoch 12/20\n",
            "1563/1563 [==============================] - 16s 11ms/step - loss: 2.1573 - accuracy: 0.2825\n",
            "Epoch 13/20\n",
            "1563/1563 [==============================] - 17s 11ms/step - loss: 2.1509 - accuracy: 0.2839\n",
            "Epoch 14/20\n",
            "1563/1563 [==============================] - 16s 11ms/step - loss: 2.1412 - accuracy: 0.2860\n",
            "Epoch 15/20\n",
            "1563/1563 [==============================] - 16s 10ms/step - loss: 2.1338 - accuracy: 0.2888\n",
            "Epoch 16/20\n",
            "1563/1563 [==============================] - 16s 10ms/step - loss: 2.1326 - accuracy: 0.2888\n",
            "Epoch 17/20\n",
            "1563/1563 [==============================] - 16s 11ms/step - loss: 2.1279 - accuracy: 0.2853\n",
            "Epoch 18/20\n",
            "1563/1563 [==============================] - 16s 11ms/step - loss: 2.1233 - accuracy: 0.2868\n",
            "Epoch 19/20\n",
            "1563/1563 [==============================] - 16s 10ms/step - loss: 2.1149 - accuracy: 0.2902\n",
            "Epoch 20/20\n",
            "1563/1563 [==============================] - 16s 10ms/step - loss: 2.1162 - accuracy: 0.2920\n",
            "313/313 - 2s - loss: 2.0482 - accuracy: 0.3110 - 2s/epoch - 5ms/step\n",
            "Test accuracy : 0.3109999895095825\n",
            "INFO:tensorflow:Assets written to: ./my_models/training6_L2_model/assets\n"
          ]
        }
      ],
      "source": [
        "# L2\n",
        "model = create_model(\n",
        "                     nb_layers=6,nb_neurones=[364,264,228,164,128,10],\n",
        "                     activation_functions=[\"selu\",\"selu\",\"selu\",\"selu\",\"selu\",\"softmax\"],\n",
        "                     weight_initializations=[\"lecun_normal\",\"lecun_normal\",\"lecun_normal\",\"lecun_normal\",\"lecun_normal\",\"lecun_normal\"],\n",
        "                     regularizer=L2()\n",
        "                     )\n",
        "model.fit(x_train,y_train,epochs=20)\n",
        "loss_test, accuracy_test = model.evaluate(x_test,y_test,verbose=2)\n",
        "\n",
        "print(f\"Test accuracy : {accuracy_test}\")\n",
        "model.save('/content/drive/MyDrive/Colab_Notebooks/Project4/models/training6_L2_model')"
      ]
    },
    {
      "cell_type": "markdown",
      "metadata": {
        "id": "s3QgjZ0zezTU"
      },
      "source": [
        "**Analysis :**\n",
        "\n",
        "Using L2 regularization technique improved the accuracy compared to the previous technique. However it is still bad compared to when using Dropout Layer only."
      ]
    },
    {
      "cell_type": "code",
      "execution_count": null,
      "metadata": {
        "colab": {
          "base_uri": "https://localhost:8080/"
        },
        "id": "s5fgylQIfR8y",
        "outputId": "90441c88-1789-4954-9030-202e1e4807fd"
      },
      "outputs": [
        {
          "name": "stdout",
          "output_type": "stream",
          "text": [
            "Epoch 1/20\n"
          ]
        },
        {
          "name": "stderr",
          "output_type": "stream",
          "text": [
            "/usr/local/lib/python3.7/dist-packages/tensorflow/python/util/dispatch.py:1082: UserWarning: \"`sparse_categorical_crossentropy` received `from_logits=True`, but the `output` argument was produced by a sigmoid or softmax activation and thus does not represent logits. Was this intended?\"\n",
            "  return dispatch_target(*args, **kwargs)\n"
          ]
        },
        {
          "name": "stdout",
          "output_type": "stream",
          "text": [
            "1563/1563 [==============================] - 17s 9ms/step - loss: 1.8942 - accuracy: 0.3223\n",
            "Epoch 2/20\n",
            "1563/1563 [==============================] - 15s 10ms/step - loss: 1.6785 - accuracy: 0.4017\n",
            "Epoch 3/20\n",
            "1563/1563 [==============================] - 15s 9ms/step - loss: 1.6111 - accuracy: 0.4264\n",
            "Epoch 4/20\n",
            "1563/1563 [==============================] - 16s 10ms/step - loss: 1.5640 - accuracy: 0.4466\n",
            "Epoch 5/20\n",
            "1563/1563 [==============================] - 14s 9ms/step - loss: 1.5292 - accuracy: 0.4582\n",
            "Epoch 6/20\n",
            "1563/1563 [==============================] - 15s 9ms/step - loss: 1.5013 - accuracy: 0.4690\n",
            "Epoch 7/20\n",
            "1563/1563 [==============================] - 15s 9ms/step - loss: 1.4753 - accuracy: 0.4791\n",
            "Epoch 8/20\n",
            "1563/1563 [==============================] - 14s 9ms/step - loss: 1.4573 - accuracy: 0.4830\n",
            "Epoch 9/20\n",
            "1563/1563 [==============================] - 14s 9ms/step - loss: 1.4317 - accuracy: 0.4980\n",
            "Epoch 10/20\n",
            "1563/1563 [==============================] - 14s 9ms/step - loss: 1.4130 - accuracy: 0.4991\n",
            "Epoch 11/20\n",
            "1563/1563 [==============================] - 14s 9ms/step - loss: 1.3995 - accuracy: 0.5060\n",
            "Epoch 12/20\n",
            "1563/1563 [==============================] - 14s 9ms/step - loss: 1.3833 - accuracy: 0.5138\n",
            "Epoch 13/20\n",
            "1563/1563 [==============================] - 14s 9ms/step - loss: 1.3672 - accuracy: 0.5167\n",
            "Epoch 14/20\n",
            "1563/1563 [==============================] - 14s 9ms/step - loss: 1.3578 - accuracy: 0.5243\n",
            "Epoch 15/20\n",
            "1563/1563 [==============================] - 14s 9ms/step - loss: 1.3470 - accuracy: 0.5321\n",
            "Epoch 16/20\n",
            "1563/1563 [==============================] - 15s 9ms/step - loss: 1.3384 - accuracy: 0.5310\n",
            "Epoch 17/20\n",
            "1563/1563 [==============================] - 15s 9ms/step - loss: 1.3245 - accuracy: 0.5351\n",
            "Epoch 18/20\n",
            "1563/1563 [==============================] - 14s 9ms/step - loss: 1.3118 - accuracy: 0.5404\n",
            "Epoch 19/20\n",
            "1563/1563 [==============================] - 14s 9ms/step - loss: 1.3107 - accuracy: 0.5420\n",
            "Epoch 20/20\n",
            "1563/1563 [==============================] - 15s 9ms/step - loss: 1.2993 - accuracy: 0.5463\n",
            "313/313 - 1s - loss: 1.2286 - accuracy: 0.5584 - 1s/epoch - 4ms/step\n",
            "Test accuracy : 0.5583999752998352\n",
            "INFO:tensorflow:Assets written to: /content/drive/MyDrive/Colab_Notebooks/Project4/models/training6_L1L2_model/assets\n"
          ]
        }
      ],
      "source": [
        "# L1L2\n",
        "model = create_model(\n",
        "                     nb_layers=6,nb_neurones=[364,264,228,164,128,10],\n",
        "                     activation_functions=[\"selu\",\"selu\",\"selu\",\"selu\",\"selu\",\"softmax\"],\n",
        "                     weight_initializations=[\"lecun_normal\",\"lecun_normal\",\"lecun_normal\",\"lecun_normal\",\"lecun_normal\",\"lecun_normal\"],\n",
        "                     regularizer=L1L2()\n",
        "                     )\n",
        "model.fit(x_train,y_train,epochs=20)\n",
        "loss_test, accuracy_test = model.evaluate(x_test,y_test,verbose=2)\n",
        "\n",
        "print(f\"Test accuracy : {accuracy_test}\")\n",
        "model.save('/content/drive/MyDrive/Colab_Notebooks/Project4/models/training6_L1L2_model')"
      ]
    },
    {
      "cell_type": "markdown",
      "metadata": {
        "id": "t5Fng9ophtOy"
      },
      "source": [
        "**Analysis :**\n",
        "\n",
        "Using L1L2 regularizer with Dropout gaved better results than L1 or L2 regularizers."
      ]
    },
    {
      "cell_type": "code",
      "execution_count": null,
      "metadata": {
        "colab": {
          "base_uri": "https://localhost:8080/"
        },
        "id": "dyXNVi42iEW1",
        "outputId": "7d3abaa8-5575-4fc8-9f71-e1193de1718b"
      },
      "outputs": [
        {
          "name": "stdout",
          "output_type": "stream",
          "text": [
            "Epoch 1/20\n"
          ]
        },
        {
          "name": "stderr",
          "output_type": "stream",
          "text": [
            "/usr/local/lib/python3.7/dist-packages/tensorflow/python/util/dispatch.py:1082: UserWarning: \"`sparse_categorical_crossentropy` received `from_logits=True`, but the `output` argument was produced by a sigmoid or softmax activation and thus does not represent logits. Was this intended?\"\n",
            "  return dispatch_target(*args, **kwargs)\n"
          ]
        },
        {
          "name": "stdout",
          "output_type": "stream",
          "text": [
            "1563/1563 [==============================] - 19s 11ms/step - loss: 3.9329 - accuracy: 0.2686\n",
            "Epoch 2/20\n",
            "1563/1563 [==============================] - 17s 11ms/step - loss: 2.3281 - accuracy: 0.2650\n",
            "Epoch 3/20\n",
            "1563/1563 [==============================] - 17s 11ms/step - loss: 2.3431 - accuracy: 0.2689\n",
            "Epoch 4/20\n",
            "1563/1563 [==============================] - 17s 11ms/step - loss: 2.3319 - accuracy: 0.2694\n",
            "Epoch 5/20\n",
            "1563/1563 [==============================] - 17s 11ms/step - loss: 2.3089 - accuracy: 0.2755\n",
            "Epoch 6/20\n",
            "1563/1563 [==============================] - 17s 11ms/step - loss: 2.2802 - accuracy: 0.2839\n",
            "Epoch 7/20\n",
            "1563/1563 [==============================] - 17s 11ms/step - loss: 2.2434 - accuracy: 0.2876\n",
            "Epoch 8/20\n",
            "1563/1563 [==============================] - 17s 11ms/step - loss: 2.2157 - accuracy: 0.2852\n",
            "Epoch 9/20\n",
            "1563/1563 [==============================] - 17s 11ms/step - loss: 2.1942 - accuracy: 0.2909\n",
            "Epoch 10/20\n",
            "1563/1563 [==============================] - 17s 11ms/step - loss: 2.1768 - accuracy: 0.2962\n",
            "Epoch 11/20\n",
            "1563/1563 [==============================] - 17s 11ms/step - loss: 2.1707 - accuracy: 0.2970\n",
            "Epoch 12/20\n",
            "1563/1563 [==============================] - 17s 11ms/step - loss: 2.1615 - accuracy: 0.2980\n",
            "Epoch 13/20\n",
            "1563/1563 [==============================] - 17s 11ms/step - loss: 2.1538 - accuracy: 0.2984\n",
            "Epoch 14/20\n",
            "1563/1563 [==============================] - 17s 11ms/step - loss: 2.1479 - accuracy: 0.2986\n",
            "Epoch 15/20\n",
            "1563/1563 [==============================] - 17s 11ms/step - loss: 2.1418 - accuracy: 0.3000\n",
            "Epoch 16/20\n",
            "1563/1563 [==============================] - 17s 11ms/step - loss: 2.1347 - accuracy: 0.3006\n",
            "Epoch 17/20\n",
            "1563/1563 [==============================] - 17s 11ms/step - loss: 2.1315 - accuracy: 0.3008\n",
            "Epoch 18/20\n",
            "1563/1563 [==============================] - 17s 11ms/step - loss: 2.1228 - accuracy: 0.3035\n",
            "Epoch 19/20\n",
            "1563/1563 [==============================] - 17s 11ms/step - loss: 2.1178 - accuracy: 0.3062\n",
            "Epoch 20/20\n",
            "1563/1563 [==============================] - 17s 11ms/step - loss: 2.1178 - accuracy: 0.3047\n",
            "313/313 - 1s - loss: 2.0348 - accuracy: 0.3054 - 1s/epoch - 4ms/step\n",
            "Test accuracy : 0.305400013923645\n",
            "INFO:tensorflow:Assets written to: /content/drive/MyDrive/Colab_Notebooks/Project4/models/training6_L2_early_stopping_model/assets\n"
          ]
        }
      ],
      "source": [
        "# L1L2 with early stopping\n",
        "early_stopping = EarlyStopping(monitor=\"accuracy\",patience=3,verbose=2,restore_best_weights= True)\n",
        "model = create_model(\n",
        "                     nb_layers=6,nb_neurones=[364,264,228,164,128,10],\n",
        "                     activation_functions=[\"selu\",\"selu\",\"selu\",\"selu\",\"selu\",\"softmax\"],\n",
        "                     weight_initializations=[\"lecun_normal\",\"lecun_normal\",\"lecun_normal\",\"lecun_normal\",\"lecun_normal\",\"lecun_normal\"],\n",
        "                     regularizer=L2()\n",
        "                     )\n",
        "model.fit(x_train,y_train,epochs=20,callbacks=[early_stopping])\n",
        "loss_test, accuracy_test = model.evaluate(x_test,y_test,verbose=2)\n",
        "\n",
        "print(f\"Test accuracy : {accuracy_test}\")\n",
        "model.save('/content/drive/MyDrive/Colab_Notebooks/Project4/models/training6_L2_early_stopping_model')"
      ]
    },
    {
      "cell_type": "markdown",
      "metadata": {
        "id": "U-OE8QAoxOWH"
      },
      "source": [
        "**Analysis :**\n",
        "\n",
        "Using early stopping with L1L2 regularization and Dropout didn't give much good results."
      ]
    },
    {
      "cell_type": "code",
      "execution_count": null,
      "metadata": {
        "colab": {
          "base_uri": "https://localhost:8080/"
        },
        "id": "Dgmbkm-9YkMQ",
        "outputId": "25d844d7-8021-422a-9cfe-1d4c5b170954"
      },
      "outputs": [
        {
          "name": "stdout",
          "output_type": "stream",
          "text": [
            "Epoch 1/20\n"
          ]
        },
        {
          "name": "stderr",
          "output_type": "stream",
          "text": [
            "/usr/local/lib/python3.7/dist-packages/tensorflow/python/util/dispatch.py:1082: UserWarning: \"`sparse_categorical_crossentropy` received `from_logits=True`, but the `output` argument was produced by a sigmoid or softmax activation and thus does not represent logits. Was this intended?\"\n",
            "  return dispatch_target(*args, **kwargs)\n"
          ]
        },
        {
          "name": "stdout",
          "output_type": "stream",
          "text": [
            "1563/1563 [==============================] - 26s 14ms/step - loss: 4.0229 - accuracy: 0.2110\n",
            "Epoch 2/20\n",
            "1563/1563 [==============================] - 22s 14ms/step - loss: 2.3638 - accuracy: 0.2156\n",
            "Epoch 3/20\n",
            "1563/1563 [==============================] - 21s 13ms/step - loss: 2.3774 - accuracy: 0.2159\n",
            "Epoch 4/20\n",
            "1563/1563 [==============================] - 21s 13ms/step - loss: 2.3726 - accuracy: 0.2163\n",
            "Epoch 5/20\n",
            "1563/1563 [==============================] - 21s 13ms/step - loss: 2.3640 - accuracy: 0.2204\n",
            "Epoch 6/20\n",
            "1563/1563 [==============================] - 21s 13ms/step - loss: 2.3506 - accuracy: 0.2229\n",
            "Epoch 7/20\n",
            "1563/1563 [==============================] - 21s 13ms/step - loss: 2.3310 - accuracy: 0.2232\n",
            "Epoch 8/20\n",
            "1563/1563 [==============================] - 21s 14ms/step - loss: 2.3067 - accuracy: 0.2249\n",
            "Epoch 9/20\n",
            "1563/1563 [==============================] - 21s 14ms/step - loss: 2.2858 - accuracy: 0.2275\n",
            "Epoch 10/20\n",
            "1563/1563 [==============================] - 21s 13ms/step - loss: 2.2779 - accuracy: 0.2281\n",
            "Epoch 11/20\n",
            "1563/1563 [==============================] - 21s 13ms/step - loss: 2.2645 - accuracy: 0.2294\n",
            "Epoch 12/20\n",
            "1563/1563 [==============================] - 21s 13ms/step - loss: 2.2571 - accuracy: 0.2332\n",
            "Epoch 13/20\n",
            "1563/1563 [==============================] - 23s 15ms/step - loss: 2.2524 - accuracy: 0.2343\n",
            "Epoch 14/20\n",
            "1563/1563 [==============================] - 21s 13ms/step - loss: 2.2456 - accuracy: 0.2363\n",
            "Epoch 15/20\n",
            "1563/1563 [==============================] - 21s 13ms/step - loss: 2.2412 - accuracy: 0.2359\n",
            "Epoch 16/20\n",
            "1563/1563 [==============================] - 21s 13ms/step - loss: 2.2359 - accuracy: 0.2385\n",
            "Epoch 17/20\n",
            "1563/1563 [==============================] - 21s 13ms/step - loss: 2.2329 - accuracy: 0.2384\n",
            "Epoch 18/20\n",
            "1563/1563 [==============================] - 21s 13ms/step - loss: 2.2311 - accuracy: 0.2396\n",
            "Epoch 19/20\n",
            "1563/1563 [==============================] - 21s 13ms/step - loss: 2.2214 - accuracy: 0.2425\n",
            "Epoch 20/20\n",
            "1563/1563 [==============================] - 21s 13ms/step - loss: 2.2187 - accuracy: 0.2380\n",
            "313/313 - 1s - loss: 2.1727 - accuracy: 0.2605 - 1s/epoch - 4ms/step\n",
            "Test accuracy : 0.2605000138282776\n",
            "INFO:tensorflow:Assets written to: /content/drive/MyDrive/Colab_Notebooks/Project4/models/training6_data_aug_model/assets\n"
          ]
        }
      ],
      "source": [
        "# Using data augmentation technique with L1L2 regularizer\n",
        "data_augmentation = Sequential([\n",
        "  Rescaling(1./255),\n",
        "  RandomFlip(\"horizontal_and_vertical\"),\n",
        "  RandomRotation(0.2),\n",
        "  RandomContrast(0.3), \n",
        "  RandomZoom(0.2)\n",
        "\n",
        "])\n",
        "\n",
        "model = create_model(\n",
        "                     nb_layers=6,nb_neurones=[364,264,228,164,128,10],\n",
        "                     activation_functions=[\"selu\",\"selu\",\"selu\",\"selu\",\"selu\",\"softmax\"],\n",
        "                     weight_initializations=[\"lecun_normal\",\"lecun_normal\",\"lecun_normal\",\"lecun_normal\",\"lecun_normal\",\"lecun_normal\"],\n",
        "                     regularizer=L2(),\n",
        "                     data_augmentation= data_augmentation\n",
        "                     )\n",
        "model.fit(x_train,y_train,epochs=20)\n",
        "loss_test, accuracy_test = model.evaluate(x_test,y_test,verbose=2)\n",
        "\n",
        "print(f\"Test accuracy : {accuracy_test}\")\n",
        "model.save('/content/drive/MyDrive/Colab_Notebooks/Project4/models/training6_data_aug_model')\n"
      ]
    },
    {
      "cell_type": "markdown",
      "metadata": {
        "id": "QacVSnP4c7E2"
      },
      "source": [
        "**Analysis :**\n",
        "\n",
        "Using data augmentation techniques reduced the accuracy of the model."
      ]
    },
    {
      "cell_type": "markdown",
      "metadata": {
        "id": "IlcFzrPydSVE"
      },
      "source": [
        "#### Hyperparameters' tuning \n",
        "\n",
        "* Mini-batch size\n",
        "* The optimizer and its parameters"
      ]
    },
    {
      "cell_type": "code",
      "execution_count": 6,
      "metadata": {
        "colab": {
          "base_uri": "https://localhost:8080/"
        },
        "id": "Nt8RB63qdR-u",
        "outputId": "084197fd-fdeb-4194-e92d-d3d9600dfbaa"
      },
      "outputs": [
        {
          "name": "stdout",
          "output_type": "stream",
          "text": [
            "Epoch 1/20\n",
            "1563/1563 [==============================] - 23s 11ms/step - loss: 3.6305 - accuracy: 0.1901\n",
            "Epoch 2/20\n",
            "1563/1563 [==============================] - 17s 11ms/step - loss: 3.0608 - accuracy: 0.1941\n",
            "Epoch 3/20\n",
            "1563/1563 [==============================] - 18s 12ms/step - loss: 2.7987 - accuracy: 0.1968\n",
            "Epoch 4/20\n",
            "1563/1563 [==============================] - 17s 11ms/step - loss: 2.6765 - accuracy: 0.1999\n",
            "Epoch 5/20\n",
            "1563/1563 [==============================] - 17s 11ms/step - loss: 2.6213 - accuracy: 0.2042\n",
            "Epoch 6/20\n",
            "1563/1563 [==============================] - 17s 11ms/step - loss: 2.6248 - accuracy: 0.1999\n",
            "Epoch 7/20\n",
            "1563/1563 [==============================] - 17s 11ms/step - loss: 2.5835 - accuracy: 0.1999\n",
            "Epoch 8/20\n",
            "1563/1563 [==============================] - 17s 11ms/step - loss: 2.5681 - accuracy: 0.2013\n",
            "Epoch 9/20\n",
            "1563/1563 [==============================] - 17s 11ms/step - loss: 2.5782 - accuracy: 0.2029\n",
            "Epoch 10/20\n",
            "1563/1563 [==============================] - 18s 11ms/step - loss: 2.5672 - accuracy: 0.2016\n",
            "Epoch 11/20\n",
            "1563/1563 [==============================] - 17s 11ms/step - loss: 2.5417 - accuracy: 0.2014\n",
            "Epoch 12/20\n",
            "1563/1563 [==============================] - 18s 11ms/step - loss: 2.5159 - accuracy: 0.2025\n",
            "Epoch 13/20\n",
            "1563/1563 [==============================] - 17s 11ms/step - loss: 2.5125 - accuracy: 0.2025\n",
            "Epoch 14/20\n",
            "1563/1563 [==============================] - 17s 11ms/step - loss: 2.5380 - accuracy: 0.2018\n",
            "Epoch 15/20\n",
            "1563/1563 [==============================] - 17s 11ms/step - loss: 2.5379 - accuracy: 0.1986\n",
            "Epoch 16/20\n",
            "1563/1563 [==============================] - 17s 11ms/step - loss: 2.5108 - accuracy: 0.1996\n",
            "Epoch 17/20\n",
            "1563/1563 [==============================] - 17s 11ms/step - loss: 2.4926 - accuracy: 0.2027\n",
            "Epoch 18/20\n",
            "1563/1563 [==============================] - 18s 11ms/step - loss: 2.5078 - accuracy: 0.2040\n",
            "Epoch 19/20\n",
            "1563/1563 [==============================] - 17s 11ms/step - loss: 2.5104 - accuracy: 0.2057\n",
            "Epoch 20/20\n",
            "1563/1563 [==============================] - 17s 11ms/step - loss: 2.4902 - accuracy: 0.2073\n",
            "313/313 - 1s - loss: 2.4705 - accuracy: 0.2035 - 1s/epoch - 4ms/step\n",
            "Test accuracy : 0.20350000262260437\n",
            "INFO:tensorflow:Assets written to: /content/drive/MyDrive/Colab_Notebooks/Project4/models/training7_lr_0.01_model/assets\n"
          ]
        }
      ],
      "source": [
        "#  Learning rate\n",
        "model = create_model(optimizer=Adam(learning_rate=0.01),\n",
        "                     nb_layers=6,nb_neurones=[364,264,228,164,128,10],\n",
        "                     activation_functions=[\"selu\",\"selu\",\"selu\",\"selu\",\"selu\",\"softmax\"],\n",
        "                     weight_initializations=[\"lecun_normal\",\"lecun_normal\",\"lecun_normal\",\"lecun_normal\",\"lecun_normal\",\"lecun_normal\"],\n",
        "                     regularizer=L2()\n",
        "                     )\n",
        "model.fit(x_train,y_train,epochs=20)\n",
        "loss_test, accuracy_test = model.evaluate(x_test,y_test,verbose=2)\n",
        "\n",
        "print(f\"Test accuracy : {accuracy_test}\")\n",
        "model.save('/content/drive/MyDrive/Colab_Notebooks/Project4/models/training7_lr_0.01_model')"
      ]
    },
    {
      "cell_type": "code",
      "execution_count": 8,
      "metadata": {
        "colab": {
          "base_uri": "https://localhost:8080/"
        },
        "id": "T67cEQnNhbCq",
        "outputId": "5d99cea4-a929-42c6-b5e9-2a8c78c118e8"
      },
      "outputs": [
        {
          "name": "stdout",
          "output_type": "stream",
          "text": [
            "Epoch 1/20\n",
            "1563/1563 [==============================] - 20s 11ms/step - loss: 11.9851 - accuracy: 0.1420\n",
            "Epoch 2/20\n",
            "1563/1563 [==============================] - 18s 11ms/step - loss: 12.1914 - accuracy: 0.1407\n",
            "Epoch 3/20\n",
            "1563/1563 [==============================] - 18s 11ms/step - loss: 14.1275 - accuracy: 0.1416\n",
            "Epoch 4/20\n",
            "1563/1563 [==============================] - 17s 11ms/step - loss: 15.2132 - accuracy: 0.1384\n",
            "Epoch 5/20\n",
            "1563/1563 [==============================] - 17s 11ms/step - loss: 15.5070 - accuracy: 0.1405\n",
            "Epoch 6/20\n",
            "1563/1563 [==============================] - 17s 11ms/step - loss: 13.8639 - accuracy: 0.1389\n",
            "Epoch 7/20\n",
            "1563/1563 [==============================] - 18s 11ms/step - loss: 12.9806 - accuracy: 0.1469\n",
            "Epoch 8/20\n",
            "1563/1563 [==============================] - 18s 11ms/step - loss: 13.6904 - accuracy: 0.1419\n",
            "Epoch 9/20\n",
            "1563/1563 [==============================] - 17s 11ms/step - loss: 12.7134 - accuracy: 0.1436\n",
            "Epoch 10/20\n",
            "1563/1563 [==============================] - 17s 11ms/step - loss: 12.4823 - accuracy: 0.1427\n",
            "Epoch 11/20\n",
            "1563/1563 [==============================] - 17s 11ms/step - loss: 12.6228 - accuracy: 0.1410\n",
            "Epoch 12/20\n",
            "1563/1563 [==============================] - 18s 11ms/step - loss: 11.9834 - accuracy: 0.1476\n",
            "Epoch 13/20\n",
            "1563/1563 [==============================] - 18s 11ms/step - loss: 12.6029 - accuracy: 0.1461\n",
            "Epoch 14/20\n",
            "1563/1563 [==============================] - 18s 11ms/step - loss: 13.5649 - accuracy: 0.1449\n",
            "Epoch 15/20\n",
            "1563/1563 [==============================] - 17s 11ms/step - loss: 12.6387 - accuracy: 0.1441\n",
            "Epoch 16/20\n",
            "1563/1563 [==============================] - 18s 11ms/step - loss: 13.1442 - accuracy: 0.1445\n",
            "Epoch 17/20\n",
            "1563/1563 [==============================] - 18s 11ms/step - loss: 10.5236 - accuracy: 0.1464\n",
            "Epoch 18/20\n",
            "1563/1563 [==============================] - 18s 11ms/step - loss: 10.7687 - accuracy: 0.1479\n",
            "Epoch 19/20\n",
            "1563/1563 [==============================] - 17s 11ms/step - loss: 10.5038 - accuracy: 0.1454\n",
            "Epoch 20/20\n",
            "1563/1563 [==============================] - 17s 11ms/step - loss: 21.5910 - accuracy: 0.1490\n",
            "313/313 - 1s - loss: 8.0597 - accuracy: 0.1221 - 1s/epoch - 4ms/step\n",
            "Test accuracy : 0.12210000306367874\n",
            "INFO:tensorflow:Assets written to: /content/drive/MyDrive/Colab_Notebooks/Project4/models/training7_lr_0.08_model/assets\n"
          ]
        }
      ],
      "source": [
        "#  Learning rate\n",
        "model = create_model(optimizer=Adam(learning_rate=0.08),\n",
        "                     nb_layers=6,nb_neurones=[364,264,228,164,128,10],\n",
        "                     activation_functions=[\"selu\",\"selu\",\"selu\",\"selu\",\"selu\",\"softmax\"],\n",
        "                     weight_initializations=[\"lecun_normal\",\"lecun_normal\",\"lecun_normal\",\"lecun_normal\",\"lecun_normal\",\"lecun_normal\"],\n",
        "                     regularizer=L2()\n",
        "                     )\n",
        "model.fit(x_train,y_train,epochs=20)\n",
        "loss_test, accuracy_test = model.evaluate(x_test,y_test,verbose=2)\n",
        "\n",
        "print(f\"Test accuracy : {accuracy_test}\")\n",
        "model.save('/content/drive/MyDrive/Colab_Notebooks/Project4/models/training7_lr_0.08_model')"
      ]
    },
    {
      "cell_type": "markdown",
      "metadata": {
        "id": "SMKAk8XU7bkJ"
      },
      "source": [
        "**Analysis :**\n",
        "\n",
        "Using higher values of learning rate makes the training faster, however it gives a bad accuracy."
      ]
    },
    {
      "cell_type": "code",
      "execution_count": 9,
      "metadata": {
        "colab": {
          "base_uri": "https://localhost:8080/"
        },
        "id": "Ypwlf-Yr7rYh",
        "outputId": "7d365958-3912-42ab-974e-1eaf66d64a6e"
      },
      "outputs": [
        {
          "name": "stdout",
          "output_type": "stream",
          "text": [
            "Epoch 1/20\n",
            "1563/1563 [==============================] - 20s 11ms/step - loss: 11.1406 - accuracy: 0.2589\n",
            "Epoch 2/20\n",
            "1563/1563 [==============================] - 18s 12ms/step - loss: 6.6103 - accuracy: 0.3207\n",
            "Epoch 3/20\n",
            "1563/1563 [==============================] - 18s 11ms/step - loss: 4.1748 - accuracy: 0.3472\n",
            "Epoch 4/20\n",
            "1563/1563 [==============================] - 18s 11ms/step - loss: 3.0359 - accuracy: 0.3631\n",
            "Epoch 5/20\n",
            "1563/1563 [==============================] - 18s 12ms/step - loss: 2.5008 - accuracy: 0.3729\n",
            "Epoch 6/20\n",
            "1563/1563 [==============================] - 19s 12ms/step - loss: 2.2271 - accuracy: 0.3797\n",
            "Epoch 7/20\n",
            "1563/1563 [==============================] - 17s 11ms/step - loss: 2.0795 - accuracy: 0.3866\n",
            "Epoch 8/20\n",
            "1563/1563 [==============================] - 18s 11ms/step - loss: 1.9939 - accuracy: 0.3924\n",
            "Epoch 9/20\n",
            "1563/1563 [==============================] - 18s 11ms/step - loss: 1.9405 - accuracy: 0.3972\n",
            "Epoch 10/20\n",
            "1563/1563 [==============================] - 18s 11ms/step - loss: 1.9055 - accuracy: 0.3998\n",
            "Epoch 11/20\n",
            "1563/1563 [==============================] - 18s 11ms/step - loss: 1.8857 - accuracy: 0.4036\n",
            "Epoch 12/20\n",
            "1563/1563 [==============================] - 17s 11ms/step - loss: 1.8694 - accuracy: 0.4058\n",
            "Epoch 13/20\n",
            "1563/1563 [==============================] - 17s 11ms/step - loss: 1.8594 - accuracy: 0.4104\n",
            "Epoch 14/20\n",
            "1563/1563 [==============================] - 17s 11ms/step - loss: 1.8476 - accuracy: 0.4130\n",
            "Epoch 15/20\n",
            "1563/1563 [==============================] - 17s 11ms/step - loss: 1.8403 - accuracy: 0.4161\n",
            "Epoch 16/20\n",
            "1563/1563 [==============================] - 18s 11ms/step - loss: 1.8362 - accuracy: 0.4183\n",
            "Epoch 17/20\n",
            "1563/1563 [==============================] - 17s 11ms/step - loss: 1.8309 - accuracy: 0.4221\n",
            "Epoch 18/20\n",
            "1563/1563 [==============================] - 17s 11ms/step - loss: 1.8244 - accuracy: 0.4220\n",
            "Epoch 19/20\n",
            "1563/1563 [==============================] - 17s 11ms/step - loss: 1.8256 - accuracy: 0.4224\n",
            "Epoch 20/20\n",
            "1563/1563 [==============================] - 17s 11ms/step - loss: 1.8223 - accuracy: 0.4228\n",
            "313/313 - 1s - loss: 1.6892 - accuracy: 0.4679 - 1s/epoch - 4ms/step\n",
            "Test accuracy : 0.46790000796318054\n",
            "INFO:tensorflow:Assets written to: /content/drive/MyDrive/Colab_Notebooks/Project4/models/training7_lr_0.0001_model/assets\n"
          ]
        }
      ],
      "source": [
        "#  Learning rate\n",
        "model = create_model(optimizer=Adam(learning_rate=0.0001),\n",
        "                     nb_layers=6,nb_neurones=[364,264,228,164,128,10],\n",
        "                     activation_functions=[\"selu\",\"selu\",\"selu\",\"selu\",\"selu\",\"softmax\"],\n",
        "                     weight_initializations=[\"lecun_normal\",\"lecun_normal\",\"lecun_normal\",\"lecun_normal\",\"lecun_normal\",\"lecun_normal\"],\n",
        "                     regularizer=L2()\n",
        "                     )\n",
        "model.fit(x_train,y_train,epochs=20)\n",
        "loss_test, accuracy_test = model.evaluate(x_test,y_test,verbose=2)\n",
        "\n",
        "print(f\"Test accuracy : {accuracy_test}\")\n",
        "model.save('/content/drive/MyDrive/Colab_Notebooks/Project4/models/training7_lr_0.0001_model')"
      ]
    },
    {
      "cell_type": "markdown",
      "metadata": {
        "id": "aIS-8QaE9czA"
      },
      "source": [
        "**Analysis :**\n",
        "using low learning rates leads to longer training, however it gaved better results."
      ]
    },
    {
      "cell_type": "code",
      "execution_count": 11,
      "metadata": {
        "colab": {
          "base_uri": "https://localhost:8080/"
        },
        "id": "44mpytXkhh06",
        "outputId": "da313e8a-bd21-4251-b576-dfdee2e98f8e"
      },
      "outputs": [
        {
          "name": "stdout",
          "output_type": "stream",
          "text": [
            "Epoch 1/20\n",
            "1563/1563 [==============================] - 19s 11ms/step - loss: 4.3878 - accuracy: 0.2575\n",
            "Epoch 2/20\n",
            "1563/1563 [==============================] - 17s 11ms/step - loss: 2.3845 - accuracy: 0.2704\n",
            "Epoch 3/20\n",
            "1563/1563 [==============================] - 17s 11ms/step - loss: 2.4045 - accuracy: 0.2604\n",
            "Epoch 4/20\n",
            "1563/1563 [==============================] - 17s 11ms/step - loss: 2.4019 - accuracy: 0.2590\n",
            "Epoch 5/20\n",
            "1563/1563 [==============================] - 17s 11ms/step - loss: 2.3818 - accuracy: 0.2593\n",
            "Epoch 6/20\n",
            "1563/1563 [==============================] - 17s 11ms/step - loss: 2.3643 - accuracy: 0.2650\n",
            "Epoch 7/20\n",
            "1563/1563 [==============================] - 17s 11ms/step - loss: 2.3424 - accuracy: 0.2644\n",
            "Epoch 8/20\n",
            "1563/1563 [==============================] - 17s 11ms/step - loss: 2.3191 - accuracy: 0.2663\n",
            "Epoch 9/20\n",
            "1563/1563 [==============================] - 17s 11ms/step - loss: 2.2996 - accuracy: 0.2697\n",
            "Epoch 10/20\n",
            "1563/1563 [==============================] - 17s 11ms/step - loss: 2.2743 - accuracy: 0.2706\n",
            "Epoch 11/20\n",
            "1563/1563 [==============================] - 17s 11ms/step - loss: 2.2601 - accuracy: 0.2751\n",
            "Epoch 12/20\n",
            "1563/1563 [==============================] - 17s 11ms/step - loss: 2.2498 - accuracy: 0.2751\n",
            "Epoch 13/20\n",
            "1563/1563 [==============================] - 17s 11ms/step - loss: 2.2384 - accuracy: 0.2776\n",
            "Epoch 14/20\n",
            "1563/1563 [==============================] - 17s 11ms/step - loss: 2.2309 - accuracy: 0.2788\n",
            "Epoch 15/20\n",
            "1563/1563 [==============================] - 17s 11ms/step - loss: 2.2298 - accuracy: 0.2785\n",
            "Epoch 16/20\n",
            "1563/1563 [==============================] - 17s 11ms/step - loss: 2.2161 - accuracy: 0.2805\n",
            "Epoch 17/20\n",
            "1563/1563 [==============================] - 17s 11ms/step - loss: 2.2096 - accuracy: 0.2823\n",
            "Epoch 18/20\n",
            "1563/1563 [==============================] - 17s 11ms/step - loss: 2.2102 - accuracy: 0.2783\n",
            "Epoch 19/20\n",
            "1563/1563 [==============================] - 17s 11ms/step - loss: 2.2032 - accuracy: 0.2799\n",
            "Epoch 20/20\n",
            "1563/1563 [==============================] - 17s 11ms/step - loss: 2.1984 - accuracy: 0.2757\n",
            "313/313 - 1s - loss: 2.1274 - accuracy: 0.3067 - 1s/epoch - 4ms/step\n",
            "Test accuracy : 0.3066999912261963\n",
            "INFO:tensorflow:Assets written to: /content/drive/MyDrive/Colab_Notebooks/Project4/models/training7_beta1_0.8_model/assets\n"
          ]
        }
      ],
      "source": [
        "# beta1\n",
        "model = create_model(dropout_rate=0.4,optimizer=Adam(learning_rate=0.001,beta_1=0.8),\n",
        "                     nb_layers=6,nb_neurones=[364,264,228,164,128,10],\n",
        "                     activation_functions=[\"selu\",\"selu\",\"selu\",\"selu\",\"selu\",\"softmax\"],\n",
        "                     weight_initializations=[\"lecun_normal\",\"lecun_normal\",\"lecun_normal\",\"lecun_normal\",\"lecun_normal\",\"lecun_normal\"],\n",
        "                     regularizer=L2()\n",
        "                     )\n",
        "model.fit(x_train,y_train,epochs=20)\n",
        "loss_test, accuracy_test = model.evaluate(x_test,y_test,verbose=2)\n",
        "\n",
        "print(f\"Test accuracy : {accuracy_test}\")\n",
        "model.save('/content/drive/MyDrive/Colab_Notebooks/Project4/models/training7_beta1_0.8_model')"
      ]
    },
    {
      "cell_type": "code",
      "execution_count": 14,
      "metadata": {
        "colab": {
          "base_uri": "https://localhost:8080/"
        },
        "id": "cpVWwtNRhwzm",
        "outputId": "60478dcc-dae9-4bee-957c-0d008f635d0b"
      },
      "outputs": [
        {
          "name": "stdout",
          "output_type": "stream",
          "text": [
            "Epoch 1/20\n",
            "1563/1563 [==============================] - 19s 11ms/step - loss: 4.2907 - accuracy: 0.2668\n",
            "Epoch 2/20\n",
            "1563/1563 [==============================] - 17s 11ms/step - loss: 2.4945 - accuracy: 0.2789\n",
            "Epoch 3/20\n",
            "1563/1563 [==============================] - 17s 11ms/step - loss: 2.5102 - accuracy: 0.2764\n",
            "Epoch 4/20\n",
            "1563/1563 [==============================] - 18s 11ms/step - loss: 2.5240 - accuracy: 0.2802\n",
            "Epoch 5/20\n",
            "1563/1563 [==============================] - 17s 11ms/step - loss: 2.5109 - accuracy: 0.2808\n",
            "Epoch 6/20\n",
            "1563/1563 [==============================] - 17s 11ms/step - loss: 2.5043 - accuracy: 0.2847\n",
            "Epoch 7/20\n",
            "1563/1563 [==============================] - 16s 10ms/step - loss: 2.4918 - accuracy: 0.2886\n",
            "Epoch 8/20\n",
            "1563/1563 [==============================] - 17s 11ms/step - loss: 2.4720 - accuracy: 0.2897\n",
            "Epoch 9/20\n",
            "1563/1563 [==============================] - 17s 11ms/step - loss: 2.4631 - accuracy: 0.2917\n",
            "Epoch 10/20\n",
            "1563/1563 [==============================] - 17s 11ms/step - loss: 2.4428 - accuracy: 0.2914\n",
            "Epoch 11/20\n",
            "1563/1563 [==============================] - 17s 11ms/step - loss: 2.4178 - accuracy: 0.2962\n",
            "Epoch 12/20\n",
            "1563/1563 [==============================] - 17s 11ms/step - loss: 2.4067 - accuracy: 0.2948\n",
            "Epoch 13/20\n",
            "1563/1563 [==============================] - 17s 11ms/step - loss: 2.3920 - accuracy: 0.2946\n",
            "Epoch 14/20\n",
            "1563/1563 [==============================] - 17s 11ms/step - loss: 2.3751 - accuracy: 0.2953\n",
            "Epoch 15/20\n",
            "1563/1563 [==============================] - 17s 11ms/step - loss: 2.3586 - accuracy: 0.2939\n",
            "Epoch 16/20\n",
            "1563/1563 [==============================] - 17s 11ms/step - loss: 2.3523 - accuracy: 0.2962\n",
            "Epoch 17/20\n",
            "1563/1563 [==============================] - 17s 11ms/step - loss: 2.3348 - accuracy: 0.2990\n",
            "Epoch 18/20\n",
            "1563/1563 [==============================] - 17s 11ms/step - loss: 2.3265 - accuracy: 0.2975\n",
            "Epoch 19/20\n",
            "1563/1563 [==============================] - 17s 11ms/step - loss: 2.3255 - accuracy: 0.2989\n",
            "Epoch 20/20\n",
            "1563/1563 [==============================] - 17s 11ms/step - loss: 2.3116 - accuracy: 0.2982\n",
            "313/313 - 1s - loss: 2.2290 - accuracy: 0.3352 - 1s/epoch - 4ms/step\n",
            "Test accuracy : 0.3352000117301941\n",
            "INFO:tensorflow:Assets written to: /content/drive/MyDrive/Colab_Notebooks/Project4/models/training7_beta1_0.99_model/assets\n"
          ]
        }
      ],
      "source": [
        "# beta1\n",
        "model = create_model(dropout_rate=0.4,optimizer=Adam(learning_rate=0.001,beta_1=0.99),\n",
        "                     nb_layers=6,nb_neurones=[364,264,228,164,128,10],\n",
        "                     activation_functions=[\"selu\",\"selu\",\"selu\",\"selu\",\"selu\",\"softmax\"],\n",
        "                     weight_initializations=[\"lecun_normal\",\"lecun_normal\",\"lecun_normal\",\"lecun_normal\",\"lecun_normal\",\"lecun_normal\"],\n",
        "                     regularizer=L2()\n",
        "                     )\n",
        "model.fit(x_train,y_train,epochs=20)\n",
        "loss_test, accuracy_test = model.evaluate(x_test,y_test,verbose=2)\n",
        "\n",
        "print(f\"Test accuracy : {accuracy_test}\")\n",
        "model.save('/content/drive/MyDrive/Colab_Notebooks/Project4/models/training7_beta1_0.99_model')"
      ]
    },
    {
      "cell_type": "code",
      "execution_count": 16,
      "metadata": {
        "colab": {
          "base_uri": "https://localhost:8080/"
        },
        "id": "ejlTrn-hFmtf",
        "outputId": "b48b93de-051f-465a-cbe2-2d4a1ac6ad86"
      },
      "outputs": [
        {
          "name": "stdout",
          "output_type": "stream",
          "text": [
            "Epoch 1/20\n",
            "1563/1563 [==============================] - 21s 11ms/step - loss: 4.3316 - accuracy: 0.2612\n",
            "Epoch 2/20\n",
            "1563/1563 [==============================] - 18s 11ms/step - loss: 2.4012 - accuracy: 0.2657\n",
            "Epoch 3/20\n",
            "1563/1563 [==============================] - 18s 11ms/step - loss: 2.4264 - accuracy: 0.2616\n",
            "Epoch 4/20\n",
            "1563/1563 [==============================] - 19s 12ms/step - loss: 2.4000 - accuracy: 0.2609\n",
            "Epoch 5/20\n",
            "1563/1563 [==============================] - 17s 11ms/step - loss: 2.3914 - accuracy: 0.2589\n",
            "Epoch 6/20\n",
            "1563/1563 [==============================] - 17s 11ms/step - loss: 2.3801 - accuracy: 0.2644\n",
            "Epoch 7/20\n",
            "1563/1563 [==============================] - 17s 11ms/step - loss: 2.3573 - accuracy: 0.2686\n",
            "Epoch 8/20\n",
            "1563/1563 [==============================] - 17s 11ms/step - loss: 2.3277 - accuracy: 0.2695\n",
            "Epoch 9/20\n",
            "1563/1563 [==============================] - 17s 11ms/step - loss: 2.3068 - accuracy: 0.2729\n",
            "Epoch 10/20\n",
            "1563/1563 [==============================] - 17s 11ms/step - loss: 2.2822 - accuracy: 0.2715\n",
            "Epoch 11/20\n",
            "1563/1563 [==============================] - 17s 11ms/step - loss: 2.2702 - accuracy: 0.2740\n",
            "Epoch 12/20\n",
            "1563/1563 [==============================] - 17s 11ms/step - loss: 2.2574 - accuracy: 0.2733\n",
            "Epoch 13/20\n",
            "1563/1563 [==============================] - 17s 11ms/step - loss: 2.2427 - accuracy: 0.2747\n",
            "Epoch 14/20\n",
            "1563/1563 [==============================] - 17s 11ms/step - loss: 2.2366 - accuracy: 0.2741\n",
            "Epoch 15/20\n",
            "1563/1563 [==============================] - 18s 11ms/step - loss: 2.2301 - accuracy: 0.2767\n",
            "Epoch 16/20\n",
            "1563/1563 [==============================] - 18s 12ms/step - loss: 2.2227 - accuracy: 0.2795\n",
            "Epoch 17/20\n",
            "1563/1563 [==============================] - 18s 11ms/step - loss: 2.2192 - accuracy: 0.2751\n",
            "Epoch 18/20\n",
            "1563/1563 [==============================] - 18s 11ms/step - loss: 2.2105 - accuracy: 0.2790\n",
            "Epoch 19/20\n",
            "1563/1563 [==============================] - 18s 11ms/step - loss: 2.2101 - accuracy: 0.2760\n",
            "Epoch 20/20\n",
            "1563/1563 [==============================] - 18s 11ms/step - loss: 2.2043 - accuracy: 0.2773\n",
            "313/313 - 1s - loss: 2.0962 - accuracy: 0.3214 - 1s/epoch - 4ms/step\n",
            "Test accuracy : 0.321399986743927\n",
            "INFO:tensorflow:Assets written to: /content/drive/MyDrive/Colab_Notebooks/Project4/models/training7_beta1_0.9_model/assets\n"
          ]
        }
      ],
      "source": [
        "# beta1\n",
        "model = create_model(dropout_rate=0.4,optimizer=Adam(),\n",
        "                     nb_layers=6,nb_neurones=[364,264,228,164,128,10],\n",
        "                     activation_functions=[\"selu\",\"selu\",\"selu\",\"selu\",\"selu\",\"softmax\"],\n",
        "                     weight_initializations=[\"lecun_normal\",\"lecun_normal\",\"lecun_normal\",\"lecun_normal\",\"lecun_normal\",\"lecun_normal\"],\n",
        "                     regularizer=L2()\n",
        "                     )\n",
        "model.fit(x_train,y_train,epochs=20)\n",
        "loss_test, accuracy_test = model.evaluate(x_test,y_test,verbose=2)\n",
        "\n",
        "print(f\"Test accuracy : {accuracy_test}\")\n",
        "model.save('/content/drive/MyDrive/Colab_Notebooks/Project4/models/training7_beta1_0.9_model')"
      ]
    },
    {
      "cell_type": "markdown",
      "metadata": {
        "id": "A-M3SN9dKwD-"
      },
      "source": [
        "**Analysis :**\n",
        "The higher the beta1 the better"
      ]
    },
    {
      "cell_type": "code",
      "execution_count": 18,
      "metadata": {
        "colab": {
          "base_uri": "https://localhost:8080/"
        },
        "id": "7Hyv8-FRh_fX",
        "outputId": "cc0ec216-1c6f-4073-8fe2-a9b903ed431f"
      },
      "outputs": [
        {
          "name": "stdout",
          "output_type": "stream",
          "text": [
            "Epoch 1/20\n",
            "1563/1563 [==============================] - 26s 15ms/step - loss: 11.2811 - accuracy: 0.2213\n",
            "Epoch 2/20\n",
            "1563/1563 [==============================] - 18s 11ms/step - loss: 6.6087 - accuracy: 0.2902\n",
            "Epoch 3/20\n",
            "1563/1563 [==============================] - 18s 11ms/step - loss: 4.2192 - accuracy: 0.3155\n",
            "Epoch 4/20\n",
            "1563/1563 [==============================] - 17s 11ms/step - loss: 3.1002 - accuracy: 0.3365\n",
            "Epoch 5/20\n",
            "1563/1563 [==============================] - 18s 12ms/step - loss: 2.5523 - accuracy: 0.3509\n",
            "Epoch 6/20\n",
            "1563/1563 [==============================] - 19s 12ms/step - loss: 2.2766 - accuracy: 0.3568\n",
            "Epoch 7/20\n",
            "1563/1563 [==============================] - 17s 11ms/step - loss: 2.1238 - accuracy: 0.3648\n",
            "Epoch 8/20\n",
            "1563/1563 [==============================] - 17s 11ms/step - loss: 2.0370 - accuracy: 0.3715\n",
            "Epoch 9/20\n",
            "1563/1563 [==============================] - 17s 11ms/step - loss: 1.9861 - accuracy: 0.3784\n",
            "Epoch 10/20\n",
            "1563/1563 [==============================] - 17s 11ms/step - loss: 1.9578 - accuracy: 0.3797\n",
            "Epoch 11/20\n",
            "1563/1563 [==============================] - 18s 12ms/step - loss: 1.9328 - accuracy: 0.3853\n",
            "Epoch 12/20\n",
            "1563/1563 [==============================] - 18s 12ms/step - loss: 1.9227 - accuracy: 0.3860\n",
            "Epoch 13/20\n",
            "1563/1563 [==============================] - 17s 11ms/step - loss: 1.9128 - accuracy: 0.3904\n",
            "Epoch 14/20\n",
            "1563/1563 [==============================] - 17s 11ms/step - loss: 1.9067 - accuracy: 0.3892\n",
            "Epoch 15/20\n",
            "1563/1563 [==============================] - 17s 11ms/step - loss: 1.8989 - accuracy: 0.3927\n",
            "Epoch 16/20\n",
            "1563/1563 [==============================] - 18s 11ms/step - loss: 1.8977 - accuracy: 0.3954\n",
            "Epoch 17/20\n",
            "1563/1563 [==============================] - 17s 11ms/step - loss: 1.8927 - accuracy: 0.3964\n",
            "Epoch 18/20\n",
            "1563/1563 [==============================] - 17s 11ms/step - loss: 1.8867 - accuracy: 0.3980\n",
            "Epoch 19/20\n",
            "1563/1563 [==============================] - 17s 11ms/step - loss: 1.8864 - accuracy: 0.4016\n",
            "Epoch 20/20\n",
            "1563/1563 [==============================] - 17s 11ms/step - loss: 1.8855 - accuracy: 0.4003\n",
            "313/313 - 1s - loss: 1.7466 - accuracy: 0.4427 - 1s/epoch - 4ms/step\n",
            "Test accuracy : 0.44269999861717224\n",
            "INFO:tensorflow:Assets written to: /content/drive/MyDrive/Colab_Notebooks/Project4/models/training7_beta2_0.9_model/assets\n"
          ]
        }
      ],
      "source": [
        "# beta2\n",
        "model = create_model(dropout_rate=0.4,optimizer=Adam(learning_rate=0.0001,beta_2=0.9),\n",
        "                     nb_layers=6,nb_neurones=[364,264,228,164,128,10],\n",
        "                     activation_functions=[\"selu\",\"selu\",\"selu\",\"selu\",\"selu\",\"softmax\"],\n",
        "                     weight_initializations=[\"lecun_normal\",\"lecun_normal\",\"lecun_normal\",\"lecun_normal\",\"lecun_normal\",\"lecun_normal\"],\n",
        "                     regularizer=L2()\n",
        "                     )\n",
        "model.fit(x_train,y_train,epochs=20)\n",
        "loss_test, accuracy_test = model.evaluate(x_test,y_test,verbose=2)\n",
        "\n",
        "print(f\"Test accuracy : {accuracy_test}\")\n",
        "model.save('/content/drive/MyDrive/Colab_Notebooks/Project4/models/training7_beta2_0.9_model')"
      ]
    },
    {
      "cell_type": "code",
      "execution_count": 19,
      "metadata": {
        "colab": {
          "base_uri": "https://localhost:8080/"
        },
        "id": "DCN0Wo55iGgT",
        "outputId": "ac457adf-33de-44f0-b1b6-dba638398a42"
      },
      "outputs": [
        {
          "name": "stdout",
          "output_type": "stream",
          "text": [
            "Epoch 1/20\n",
            "1563/1563 [==============================] - 21s 12ms/step - loss: 11.0942 - accuracy: 0.2220\n",
            "Epoch 2/20\n",
            "1563/1563 [==============================] - 18s 11ms/step - loss: 6.1678 - accuracy: 0.2885\n",
            "Epoch 3/20\n",
            "1563/1563 [==============================] - 18s 11ms/step - loss: 3.8667 - accuracy: 0.3186\n",
            "Epoch 4/20\n",
            "1563/1563 [==============================] - 18s 11ms/step - loss: 2.8811 - accuracy: 0.3380\n",
            "Epoch 5/20\n",
            "1563/1563 [==============================] - 17s 11ms/step - loss: 2.4217 - accuracy: 0.3506\n",
            "Epoch 6/20\n",
            "1563/1563 [==============================] - 18s 11ms/step - loss: 2.1950 - accuracy: 0.3592\n",
            "Epoch 7/20\n",
            "1563/1563 [==============================] - 17s 11ms/step - loss: 2.0767 - accuracy: 0.3637\n",
            "Epoch 8/20\n",
            "1563/1563 [==============================] - 17s 11ms/step - loss: 2.0137 - accuracy: 0.3701\n",
            "Epoch 9/20\n",
            "1563/1563 [==============================] - 17s 11ms/step - loss: 1.9765 - accuracy: 0.3762\n",
            "Epoch 10/20\n",
            "1563/1563 [==============================] - 17s 11ms/step - loss: 1.9565 - accuracy: 0.3748\n",
            "Epoch 11/20\n",
            "1563/1563 [==============================] - 17s 11ms/step - loss: 1.9395 - accuracy: 0.3788\n",
            "Epoch 12/20\n",
            "1563/1563 [==============================] - 17s 11ms/step - loss: 1.9265 - accuracy: 0.3832\n",
            "Epoch 13/20\n",
            "1563/1563 [==============================] - 17s 11ms/step - loss: 1.9228 - accuracy: 0.3856\n",
            "Epoch 14/20\n",
            "1563/1563 [==============================] - 17s 11ms/step - loss: 1.9122 - accuracy: 0.3856\n",
            "Epoch 15/20\n",
            "1563/1563 [==============================] - 17s 11ms/step - loss: 1.9061 - accuracy: 0.3896\n",
            "Epoch 16/20\n",
            "1563/1563 [==============================] - 17s 11ms/step - loss: 1.9050 - accuracy: 0.3931\n",
            "Epoch 17/20\n",
            "1563/1563 [==============================] - 17s 11ms/step - loss: 1.9035 - accuracy: 0.3923\n",
            "Epoch 18/20\n",
            "1563/1563 [==============================] - 17s 11ms/step - loss: 1.9022 - accuracy: 0.3953\n",
            "Epoch 19/20\n",
            "1563/1563 [==============================] - 17s 11ms/step - loss: 1.9027 - accuracy: 0.3941\n",
            "Epoch 20/20\n",
            "1563/1563 [==============================] - 17s 11ms/step - loss: 1.8952 - accuracy: 0.3987\n",
            "313/313 - 1s - loss: 1.7508 - accuracy: 0.4492 - 1s/epoch - 4ms/step\n",
            "Test accuracy : 0.44920000433921814\n",
            "INFO:tensorflow:Assets written to: /content/drive/MyDrive/Colab_Notebooks/Project4/models/training7_beta2_0.7_model/assets\n"
          ]
        }
      ],
      "source": [
        "# beta2\n",
        "model = create_model(dropout_rate=0.4,optimizer=Adam(learning_rate=0.0001,beta_2=0.7),\n",
        "                     nb_layers=6,nb_neurones=[364,264,228,164,128,10],\n",
        "                     activation_functions=[\"selu\",\"selu\",\"selu\",\"selu\",\"selu\",\"softmax\"],\n",
        "                     weight_initializations=[\"lecun_normal\",\"lecun_normal\",\"lecun_normal\",\"lecun_normal\",\"lecun_normal\",\"lecun_normal\"],\n",
        "                     regularizer=L2()\n",
        "                     )\n",
        "model.fit(x_train,y_train,epochs=20)\n",
        "loss_test, accuracy_test = model.evaluate(x_test,y_test,verbose=2)\n",
        "\n",
        "print(f\"Test accuracy : {accuracy_test}\")\n",
        "model.save('/content/drive/MyDrive/Colab_Notebooks/Project4/models/training7_beta2_0.7_model')"
      ]
    },
    {
      "cell_type": "code",
      "execution_count": 20,
      "metadata": {
        "colab": {
          "base_uri": "https://localhost:8080/"
        },
        "id": "9MVpqv5CiJRX",
        "outputId": "2c69e439-a251-4d5a-88bc-b01956b6e9eb"
      },
      "outputs": [
        {
          "name": "stdout",
          "output_type": "stream",
          "text": [
            "Epoch 1/20\n",
            "1563/1563 [==============================] - 19s 11ms/step - loss: 11.7245 - accuracy: 0.2220\n",
            "Epoch 2/20\n",
            "1563/1563 [==============================] - 17s 11ms/step - loss: 7.6423 - accuracy: 0.2824\n",
            "Epoch 3/20\n",
            "1563/1563 [==============================] - 17s 11ms/step - loss: 5.0746 - accuracy: 0.3123\n",
            "Epoch 4/20\n",
            "1563/1563 [==============================] - 17s 11ms/step - loss: 3.6369 - accuracy: 0.3318\n",
            "Epoch 5/20\n",
            "1563/1563 [==============================] - 17s 11ms/step - loss: 2.8558 - accuracy: 0.3440\n",
            "Epoch 6/20\n",
            "1563/1563 [==============================] - 17s 11ms/step - loss: 2.4475 - accuracy: 0.3543\n",
            "Epoch 7/20\n",
            "1563/1563 [==============================] - 17s 11ms/step - loss: 2.2281 - accuracy: 0.3610\n",
            "Epoch 8/20\n",
            "1563/1563 [==============================] - 17s 11ms/step - loss: 2.1005 - accuracy: 0.3672\n",
            "Epoch 9/20\n",
            "1563/1563 [==============================] - 17s 11ms/step - loss: 2.0332 - accuracy: 0.3695\n",
            "Epoch 10/20\n",
            "1563/1563 [==============================] - 17s 11ms/step - loss: 1.9933 - accuracy: 0.3715\n",
            "Epoch 11/20\n",
            "1563/1563 [==============================] - 17s 11ms/step - loss: 1.9685 - accuracy: 0.3751\n",
            "Epoch 12/20\n",
            "1563/1563 [==============================] - 18s 11ms/step - loss: 1.9511 - accuracy: 0.3806\n",
            "Epoch 13/20\n",
            "1563/1563 [==============================] - 17s 11ms/step - loss: 1.9422 - accuracy: 0.3815\n",
            "Epoch 14/20\n",
            "1563/1563 [==============================] - 18s 11ms/step - loss: 1.9375 - accuracy: 0.3818\n",
            "Epoch 15/20\n",
            "1563/1563 [==============================] - 18s 11ms/step - loss: 1.9303 - accuracy: 0.3832\n",
            "Epoch 16/20\n",
            "1563/1563 [==============================] - 17s 11ms/step - loss: 1.9248 - accuracy: 0.3880\n",
            "Epoch 17/20\n",
            "1563/1563 [==============================] - 17s 11ms/step - loss: 1.9221 - accuracy: 0.3890\n",
            "Epoch 18/20\n",
            "1563/1563 [==============================] - 17s 11ms/step - loss: 1.9185 - accuracy: 0.3902\n",
            "Epoch 19/20\n",
            "1563/1563 [==============================] - 17s 11ms/step - loss: 1.9145 - accuracy: 0.3937\n",
            "Epoch 20/20\n",
            "1563/1563 [==============================] - 17s 11ms/step - loss: 1.9127 - accuracy: 0.3956\n",
            "313/313 - 1s - loss: 1.7499 - accuracy: 0.4632 - 1s/epoch - 4ms/step\n",
            "Test accuracy : 0.46320000290870667\n",
            "INFO:tensorflow:Assets written to: /content/drive/MyDrive/Colab_Notebooks/Project4/models/training7_beta2_0.9999_model/assets\n"
          ]
        }
      ],
      "source": [
        "# beta2\n",
        "model = create_model(dropout_rate=0.4,optimizer=Adam(learning_rate=0.0001,beta_2=0.9999),\n",
        "                     nb_layers=6,nb_neurones=[364,264,228,164,128,10],\n",
        "                     activation_functions=[\"selu\",\"selu\",\"selu\",\"selu\",\"selu\",\"softmax\"],\n",
        "                     weight_initializations=[\"lecun_normal\",\"lecun_normal\",\"lecun_normal\",\"lecun_normal\",\"lecun_normal\",\"lecun_normal\"],\n",
        "                     regularizer=L2()\n",
        "                     )\n",
        "model.fit(x_train,y_train,epochs=20)\n",
        "loss_test, accuracy_test = model.evaluate(x_test,y_test,verbose=2)\n",
        "\n",
        "print(f\"Test accuracy : {accuracy_test}\")\n",
        "model.save('/content/drive/MyDrive/Colab_Notebooks/Project4/models/training7_beta2_0.9999_model')"
      ]
    },
    {
      "cell_type": "markdown",
      "metadata": {
        "id": "D_Jcwr-liOQf"
      },
      "source": [
        "**Analysis :**\n",
        "The closest Beta2 to 1 the better the results. As we can see when using beta2 = 0.9999, the accuracy in the test set improved and even the overfitting has been reduced largely (0.46 - 0.39 = 0.07) compared to other methods ."
      ]
    },
    {
      "cell_type": "markdown",
      "metadata": {
        "id": "qcFRgyd_TAOx"
      },
      "source": [
        "## Answer the following questions\n",
        "*Hint: Do your own research to answer these questions, none of the questions is answered in the previous lessons*\n",
        "\n",
        "\n",
        "1.   Why we can’t reach a good accuracy on this task?\n",
        "2.   Explain why fully connected neural networks are Not efficient on image tasks\n",
        "3.   What architecture can be used  for such tasks? Why they are more adapted for that?\n",
        "\n",
        "\\"
      ]
    },
    {
      "cell_type": "code",
      "execution_count": 21,
      "metadata": {
        "colab": {
          "base_uri": "https://localhost:8080/"
        },
        "id": "SVwMF-0CSWpb",
        "outputId": "6ef15700-6357-4f45-92ad-24ec2f9067a3"
      },
      "outputs": [
        {
          "name": "stdout",
          "output_type": "stream",
          "text": [
            "Model: \"sequential_12\"\n",
            "_________________________________________________________________\n",
            " Layer (type)                Output Shape              Param #   \n",
            "=================================================================\n",
            " flatten_12 (Flatten)        (None, 3072)              0         \n",
            "                                                                 \n",
            " batch_normalization_72 (Bat  (None, 3072)             12288     \n",
            " chNormalization)                                                \n",
            "                                                                 \n",
            " dropout_72 (Dropout)        (None, 3072)              0         \n",
            "                                                                 \n",
            " dense_72 (Dense)            (None, 364)               1118572   \n",
            "                                                                 \n",
            " batch_normalization_73 (Bat  (None, 364)              1456      \n",
            " chNormalization)                                                \n",
            "                                                                 \n",
            " dropout_73 (Dropout)        (None, 364)               0         \n",
            "                                                                 \n",
            " dense_73 (Dense)            (None, 264)               96360     \n",
            "                                                                 \n",
            " batch_normalization_74 (Bat  (None, 264)              1056      \n",
            " chNormalization)                                                \n",
            "                                                                 \n",
            " dropout_74 (Dropout)        (None, 264)               0         \n",
            "                                                                 \n",
            " dense_74 (Dense)            (None, 228)               60420     \n",
            "                                                                 \n",
            " batch_normalization_75 (Bat  (None, 228)              912       \n",
            " chNormalization)                                                \n",
            "                                                                 \n",
            " dropout_75 (Dropout)        (None, 228)               0         \n",
            "                                                                 \n",
            " dense_75 (Dense)            (None, 164)               37556     \n",
            "                                                                 \n",
            " batch_normalization_76 (Bat  (None, 164)              656       \n",
            " chNormalization)                                                \n",
            "                                                                 \n",
            " dropout_76 (Dropout)        (None, 164)               0         \n",
            "                                                                 \n",
            " dense_76 (Dense)            (None, 128)               21120     \n",
            "                                                                 \n",
            " batch_normalization_77 (Bat  (None, 128)              512       \n",
            " chNormalization)                                                \n",
            "                                                                 \n",
            " dropout_77 (Dropout)        (None, 128)               0         \n",
            "                                                                 \n",
            " dense_77 (Dense)            (None, 10)                1290      \n",
            "                                                                 \n",
            "=================================================================\n",
            "Total params: 1,352,198\n",
            "Trainable params: 1,343,758\n",
            "Non-trainable params: 8,440\n",
            "_________________________________________________________________\n"
          ]
        }
      ],
      "source": [
        "model.summary()"
      ]
    },
    {
      "cell_type": "markdown",
      "metadata": {
        "id": "Mln2PBKOSH_r"
      },
      "source": [
        "\n",
        "\n",
        "1.   Why we can’t reach a good accuracy on this task?\n",
        "\n",
        "*   There is more than 1 million trainable parameters\n",
        "\n",
        "\n",
        "2.  Explain why fully connected neural networks are Not efficient on image tasks\n",
        "\n",
        "*   Flattening images causes the loss of spatial context and correlation between pixels\n",
        "*   The number of trainable parameters is huge causing overfitting\n",
        "*   Images may contain same features with different sizes at different places, it is impossible for a fully connected network to consider them the same.\n",
        "\n",
        "\n",
        "\n",
        "\n"
      ]
    }
  ],
  "metadata": {
    "accelerator": "GPU",
    "colab": {
      "collapsed_sections": [],
      "name": "Unit 4 Project - Questions.ipynb",
      "provenance": []
    },
    "kernelspec": {
      "display_name": "Python 3",
      "name": "python3"
    },
    "language_info": {
      "name": "python",
      "version": "3.8.11"
    }
  },
  "nbformat": 4,
  "nbformat_minor": 0
}
